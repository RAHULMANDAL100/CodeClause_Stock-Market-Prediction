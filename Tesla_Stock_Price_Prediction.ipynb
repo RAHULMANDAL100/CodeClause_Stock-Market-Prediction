{
  "cells": [
    {
      "cell_type": "markdown",
      "metadata": {
        "id": "view-in-github",
        "colab_type": "text"
      },
      "source": [
        "<a href=\"https://colab.research.google.com/github/RAHULMANDAL100/CodeClause_Stock-Market-Prediction/blob/main/Tesla_Stock_Price_Prediction.ipynb\" target=\"_parent\"><img src=\"https://colab.research.google.com/assets/colab-badge.svg\" alt=\"Open In Colab\"/></a>"
      ]
    },
    {
      "cell_type": "code",
      "execution_count": 16,
      "metadata": {
        "colab": {
          "base_uri": "https://localhost:8080/",
          "height": 17
        },
        "id": "RMv_Z_OimlbH",
        "outputId": "652b043d-5a6a-4a02-91fd-84aa4b8b098b"
      },
      "outputs": [
        {
          "output_type": "display_data",
          "data": {
            "text/html": [
              "        <script type=\"text/javascript\">\n",
              "        window.PlotlyConfig = {MathJaxConfig: 'local'};\n",
              "        if (window.MathJax) {MathJax.Hub.Config({SVG: {font: \"STIX-Web\"}});}\n",
              "        if (typeof require !== 'undefined') {\n",
              "        require.undef(\"plotly\");\n",
              "        requirejs.config({\n",
              "            paths: {\n",
              "                'plotly': ['https://cdn.plot.ly/plotly-2.8.3.min']\n",
              "            }\n",
              "        });\n",
              "        require(['plotly'], function(Plotly) {\n",
              "            window._Plotly = Plotly;\n",
              "        });\n",
              "        }\n",
              "        </script>\n",
              "        "
            ]
          },
          "metadata": {}
        }
      ],
      "source": [
        "#Importing all dependencies\n",
        "\n",
        "import pandas as pd\n",
        "import numpy as np\n",
        "import matplotlib.pyplot as plt\n",
        "%matplotlib inline\n",
        "\n",
        "import chart_studio.plotly as py\n",
        "import plotly.graph_objs as go\n",
        "from plotly.offline import plot\n",
        "\n",
        "\n",
        "#for offline plotting\n",
        "from plotly.offline import download_plotlyjs, init_notebook_mode, plot, iplot\n",
        "init_notebook_mode(connected=True) \n",
        "\n",
        "import warnings\n",
        "warnings.filterwarnings('ignore')\n"
      ]
    },
    {
      "cell_type": "code",
      "source": [
        "import plotly.io as pio\n",
        "pio.renderers.default = \"colab\""
      ],
      "metadata": {
        "id": "TkWYxHZSAI9u"
      },
      "execution_count": 17,
      "outputs": []
    },
    {
      "cell_type": "code",
      "execution_count": 18,
      "metadata": {
        "colab": {
          "base_uri": "https://localhost:8080/",
          "height": 206
        },
        "id": "H5K_d2sPmlbJ",
        "outputId": "65e39a58-5af5-4dca-f754-023216ac3080"
      },
      "outputs": [
        {
          "output_type": "execute_result",
          "data": {
            "text/plain": [
              "        Date       Open   High        Low      Close    Volume  Adj Close\n",
              "0  6/29/2010  19.000000  25.00  17.540001  23.889999  18766300  23.889999\n",
              "1  6/30/2010  25.790001  30.42  23.299999  23.830000  17187100  23.830000\n",
              "2   7/1/2010  25.000000  25.92  20.270000  21.959999   8218800  21.959999\n",
              "3   7/2/2010  23.000000  23.10  18.709999  19.200001   5139800  19.200001\n",
              "4   7/6/2010  20.000000  20.00  15.830000  16.110001   6866900  16.110001"
            ],
            "text/html": [
              "\n",
              "  <div id=\"df-20b68474-fd81-404b-a6cd-0848199efc65\">\n",
              "    <div class=\"colab-df-container\">\n",
              "      <div>\n",
              "<style scoped>\n",
              "    .dataframe tbody tr th:only-of-type {\n",
              "        vertical-align: middle;\n",
              "    }\n",
              "\n",
              "    .dataframe tbody tr th {\n",
              "        vertical-align: top;\n",
              "    }\n",
              "\n",
              "    .dataframe thead th {\n",
              "        text-align: right;\n",
              "    }\n",
              "</style>\n",
              "<table border=\"1\" class=\"dataframe\">\n",
              "  <thead>\n",
              "    <tr style=\"text-align: right;\">\n",
              "      <th></th>\n",
              "      <th>Date</th>\n",
              "      <th>Open</th>\n",
              "      <th>High</th>\n",
              "      <th>Low</th>\n",
              "      <th>Close</th>\n",
              "      <th>Volume</th>\n",
              "      <th>Adj Close</th>\n",
              "    </tr>\n",
              "  </thead>\n",
              "  <tbody>\n",
              "    <tr>\n",
              "      <th>0</th>\n",
              "      <td>6/29/2010</td>\n",
              "      <td>19.000000</td>\n",
              "      <td>25.00</td>\n",
              "      <td>17.540001</td>\n",
              "      <td>23.889999</td>\n",
              "      <td>18766300</td>\n",
              "      <td>23.889999</td>\n",
              "    </tr>\n",
              "    <tr>\n",
              "      <th>1</th>\n",
              "      <td>6/30/2010</td>\n",
              "      <td>25.790001</td>\n",
              "      <td>30.42</td>\n",
              "      <td>23.299999</td>\n",
              "      <td>23.830000</td>\n",
              "      <td>17187100</td>\n",
              "      <td>23.830000</td>\n",
              "    </tr>\n",
              "    <tr>\n",
              "      <th>2</th>\n",
              "      <td>7/1/2010</td>\n",
              "      <td>25.000000</td>\n",
              "      <td>25.92</td>\n",
              "      <td>20.270000</td>\n",
              "      <td>21.959999</td>\n",
              "      <td>8218800</td>\n",
              "      <td>21.959999</td>\n",
              "    </tr>\n",
              "    <tr>\n",
              "      <th>3</th>\n",
              "      <td>7/2/2010</td>\n",
              "      <td>23.000000</td>\n",
              "      <td>23.10</td>\n",
              "      <td>18.709999</td>\n",
              "      <td>19.200001</td>\n",
              "      <td>5139800</td>\n",
              "      <td>19.200001</td>\n",
              "    </tr>\n",
              "    <tr>\n",
              "      <th>4</th>\n",
              "      <td>7/6/2010</td>\n",
              "      <td>20.000000</td>\n",
              "      <td>20.00</td>\n",
              "      <td>15.830000</td>\n",
              "      <td>16.110001</td>\n",
              "      <td>6866900</td>\n",
              "      <td>16.110001</td>\n",
              "    </tr>\n",
              "  </tbody>\n",
              "</table>\n",
              "</div>\n",
              "      <button class=\"colab-df-convert\" onclick=\"convertToInteractive('df-20b68474-fd81-404b-a6cd-0848199efc65')\"\n",
              "              title=\"Convert this dataframe to an interactive table.\"\n",
              "              style=\"display:none;\">\n",
              "        \n",
              "  <svg xmlns=\"http://www.w3.org/2000/svg\" height=\"24px\"viewBox=\"0 0 24 24\"\n",
              "       width=\"24px\">\n",
              "    <path d=\"M0 0h24v24H0V0z\" fill=\"none\"/>\n",
              "    <path d=\"M18.56 5.44l.94 2.06.94-2.06 2.06-.94-2.06-.94-.94-2.06-.94 2.06-2.06.94zm-11 1L8.5 8.5l.94-2.06 2.06-.94-2.06-.94L8.5 2.5l-.94 2.06-2.06.94zm10 10l.94 2.06.94-2.06 2.06-.94-2.06-.94-.94-2.06-.94 2.06-2.06.94z\"/><path d=\"M17.41 7.96l-1.37-1.37c-.4-.4-.92-.59-1.43-.59-.52 0-1.04.2-1.43.59L10.3 9.45l-7.72 7.72c-.78.78-.78 2.05 0 2.83L4 21.41c.39.39.9.59 1.41.59.51 0 1.02-.2 1.41-.59l7.78-7.78 2.81-2.81c.8-.78.8-2.07 0-2.86zM5.41 20L4 18.59l7.72-7.72 1.47 1.35L5.41 20z\"/>\n",
              "  </svg>\n",
              "      </button>\n",
              "      \n",
              "  <style>\n",
              "    .colab-df-container {\n",
              "      display:flex;\n",
              "      flex-wrap:wrap;\n",
              "      gap: 12px;\n",
              "    }\n",
              "\n",
              "    .colab-df-convert {\n",
              "      background-color: #E8F0FE;\n",
              "      border: none;\n",
              "      border-radius: 50%;\n",
              "      cursor: pointer;\n",
              "      display: none;\n",
              "      fill: #1967D2;\n",
              "      height: 32px;\n",
              "      padding: 0 0 0 0;\n",
              "      width: 32px;\n",
              "    }\n",
              "\n",
              "    .colab-df-convert:hover {\n",
              "      background-color: #E2EBFA;\n",
              "      box-shadow: 0px 1px 2px rgba(60, 64, 67, 0.3), 0px 1px 3px 1px rgba(60, 64, 67, 0.15);\n",
              "      fill: #174EA6;\n",
              "    }\n",
              "\n",
              "    [theme=dark] .colab-df-convert {\n",
              "      background-color: #3B4455;\n",
              "      fill: #D2E3FC;\n",
              "    }\n",
              "\n",
              "    [theme=dark] .colab-df-convert:hover {\n",
              "      background-color: #434B5C;\n",
              "      box-shadow: 0px 1px 3px 1px rgba(0, 0, 0, 0.15);\n",
              "      filter: drop-shadow(0px 1px 2px rgba(0, 0, 0, 0.3));\n",
              "      fill: #FFFFFF;\n",
              "    }\n",
              "  </style>\n",
              "\n",
              "      <script>\n",
              "        const buttonEl =\n",
              "          document.querySelector('#df-20b68474-fd81-404b-a6cd-0848199efc65 button.colab-df-convert');\n",
              "        buttonEl.style.display =\n",
              "          google.colab.kernel.accessAllowed ? 'block' : 'none';\n",
              "\n",
              "        async function convertToInteractive(key) {\n",
              "          const element = document.querySelector('#df-20b68474-fd81-404b-a6cd-0848199efc65');\n",
              "          const dataTable =\n",
              "            await google.colab.kernel.invokeFunction('convertToInteractive',\n",
              "                                                     [key], {});\n",
              "          if (!dataTable) return;\n",
              "\n",
              "          const docLinkHtml = 'Like what you see? Visit the ' +\n",
              "            '<a target=\"_blank\" href=https://colab.research.google.com/notebooks/data_table.ipynb>data table notebook</a>'\n",
              "            + ' to learn more about interactive tables.';\n",
              "          element.innerHTML = '';\n",
              "          dataTable['output_type'] = 'display_data';\n",
              "          await google.colab.output.renderOutput(dataTable, element);\n",
              "          const docLink = document.createElement('div');\n",
              "          docLink.innerHTML = docLinkHtml;\n",
              "          element.appendChild(docLink);\n",
              "        }\n",
              "      </script>\n",
              "    </div>\n",
              "  </div>\n",
              "  "
            ]
          },
          "metadata": {},
          "execution_count": 18
        }
      ],
      "source": [
        "# Read the dataset using pandas\n",
        "# dataset from kaggle - https://www.kaggle.com/datasets/rpaguirre/tesla-stock-price\n",
        "tesla = pd.read_csv('Tesla.csv')\n",
        "tesla.head()"
      ]
    },
    {
      "cell_type": "code",
      "execution_count": 19,
      "metadata": {
        "colab": {
          "base_uri": "https://localhost:8080/"
        },
        "id": "9qezPWhOmlbJ",
        "outputId": "f413f5e0-a58a-473f-bea0-e92156ce888b"
      },
      "outputs": [
        {
          "output_type": "stream",
          "name": "stdout",
          "text": [
            "<class 'pandas.core.frame.DataFrame'>\n",
            "RangeIndex: 1692 entries, 0 to 1691\n",
            "Data columns (total 7 columns):\n",
            " #   Column     Non-Null Count  Dtype  \n",
            "---  ------     --------------  -----  \n",
            " 0   Date       1692 non-null   object \n",
            " 1   Open       1692 non-null   float64\n",
            " 2   High       1692 non-null   float64\n",
            " 3   Low        1692 non-null   float64\n",
            " 4   Close      1692 non-null   float64\n",
            " 5   Volume     1692 non-null   int64  \n",
            " 6   Adj Close  1692 non-null   float64\n",
            "dtypes: float64(5), int64(1), object(1)\n",
            "memory usage: 92.7+ KB\n"
          ]
        }
      ],
      "source": [
        "#Getting the no. of rows,columns of the dataset,returning data types and if there is any null value finding that also\n",
        "tesla.info()"
      ]
    },
    {
      "cell_type": "code",
      "execution_count": 20,
      "metadata": {
        "id": "NEq3T-hUmlbK"
      },
      "outputs": [],
      "source": [
        "# converting date column in date time format using pandas\n",
        "tesla['Date'] = pd.to_datetime(tesla['Date'])"
      ]
    },
    {
      "cell_type": "code",
      "execution_count": 21,
      "metadata": {
        "colab": {
          "base_uri": "https://localhost:8080/"
        },
        "id": "RmYSXS_ImlbK",
        "outputId": "bdf405f5-b9ad-451c-d6ec-88bf2a5cbae9"
      },
      "outputs": [
        {
          "output_type": "stream",
          "name": "stdout",
          "text": [
            "Dataframe contains stock prices between 2010-06-29 00:00:00 2017-03-17 00:00:00\n",
            "Total days = 2453 days\n"
          ]
        }
      ],
      "source": [
        "print(f'Dataframe contains stock prices between {tesla.Date.min()} {tesla.Date.max()}') \n",
        "print(f'Total days = {(tesla.Date.max()  - tesla.Date.min()).days} days')"
      ]
    },
    {
      "cell_type": "code",
      "execution_count": 22,
      "metadata": {
        "colab": {
          "base_uri": "https://localhost:8080/",
          "height": 300
        },
        "id": "83g_PYzemlbK",
        "outputId": "857a14dc-de67-443b-f916-219b35d026e5"
      },
      "outputs": [
        {
          "output_type": "execute_result",
          "data": {
            "text/plain": [
              "              Open         High          Low        Close        Volume  \\\n",
              "count  1692.000000  1692.000000  1692.000000  1692.000000  1.692000e+03   \n",
              "mean    132.441572   134.769698   129.996223   132.428658  4.270741e+06   \n",
              "std      94.309923    95.694914    92.855227    94.313187  4.295971e+06   \n",
              "min      16.139999    16.629999    14.980000    15.800000  1.185000e+05   \n",
              "25%      30.000000    30.650000    29.215000    29.884999  1.194350e+06   \n",
              "50%     156.334999   162.370002   153.150002   158.160004  3.180700e+06   \n",
              "75%     220.557495   224.099999   217.119999   220.022503  5.662100e+06   \n",
              "max     287.670013   291.420013   280.399994   286.040009  3.716390e+07   \n",
              "\n",
              "         Adj Close  \n",
              "count  1692.000000  \n",
              "mean    132.428658  \n",
              "std      94.313187  \n",
              "min      15.800000  \n",
              "25%      29.884999  \n",
              "50%     158.160004  \n",
              "75%     220.022503  \n",
              "max     286.040009  "
            ],
            "text/html": [
              "\n",
              "  <div id=\"df-14eeea9d-9d22-47eb-ab5a-b25d6227269c\">\n",
              "    <div class=\"colab-df-container\">\n",
              "      <div>\n",
              "<style scoped>\n",
              "    .dataframe tbody tr th:only-of-type {\n",
              "        vertical-align: middle;\n",
              "    }\n",
              "\n",
              "    .dataframe tbody tr th {\n",
              "        vertical-align: top;\n",
              "    }\n",
              "\n",
              "    .dataframe thead th {\n",
              "        text-align: right;\n",
              "    }\n",
              "</style>\n",
              "<table border=\"1\" class=\"dataframe\">\n",
              "  <thead>\n",
              "    <tr style=\"text-align: right;\">\n",
              "      <th></th>\n",
              "      <th>Open</th>\n",
              "      <th>High</th>\n",
              "      <th>Low</th>\n",
              "      <th>Close</th>\n",
              "      <th>Volume</th>\n",
              "      <th>Adj Close</th>\n",
              "    </tr>\n",
              "  </thead>\n",
              "  <tbody>\n",
              "    <tr>\n",
              "      <th>count</th>\n",
              "      <td>1692.000000</td>\n",
              "      <td>1692.000000</td>\n",
              "      <td>1692.000000</td>\n",
              "      <td>1692.000000</td>\n",
              "      <td>1.692000e+03</td>\n",
              "      <td>1692.000000</td>\n",
              "    </tr>\n",
              "    <tr>\n",
              "      <th>mean</th>\n",
              "      <td>132.441572</td>\n",
              "      <td>134.769698</td>\n",
              "      <td>129.996223</td>\n",
              "      <td>132.428658</td>\n",
              "      <td>4.270741e+06</td>\n",
              "      <td>132.428658</td>\n",
              "    </tr>\n",
              "    <tr>\n",
              "      <th>std</th>\n",
              "      <td>94.309923</td>\n",
              "      <td>95.694914</td>\n",
              "      <td>92.855227</td>\n",
              "      <td>94.313187</td>\n",
              "      <td>4.295971e+06</td>\n",
              "      <td>94.313187</td>\n",
              "    </tr>\n",
              "    <tr>\n",
              "      <th>min</th>\n",
              "      <td>16.139999</td>\n",
              "      <td>16.629999</td>\n",
              "      <td>14.980000</td>\n",
              "      <td>15.800000</td>\n",
              "      <td>1.185000e+05</td>\n",
              "      <td>15.800000</td>\n",
              "    </tr>\n",
              "    <tr>\n",
              "      <th>25%</th>\n",
              "      <td>30.000000</td>\n",
              "      <td>30.650000</td>\n",
              "      <td>29.215000</td>\n",
              "      <td>29.884999</td>\n",
              "      <td>1.194350e+06</td>\n",
              "      <td>29.884999</td>\n",
              "    </tr>\n",
              "    <tr>\n",
              "      <th>50%</th>\n",
              "      <td>156.334999</td>\n",
              "      <td>162.370002</td>\n",
              "      <td>153.150002</td>\n",
              "      <td>158.160004</td>\n",
              "      <td>3.180700e+06</td>\n",
              "      <td>158.160004</td>\n",
              "    </tr>\n",
              "    <tr>\n",
              "      <th>75%</th>\n",
              "      <td>220.557495</td>\n",
              "      <td>224.099999</td>\n",
              "      <td>217.119999</td>\n",
              "      <td>220.022503</td>\n",
              "      <td>5.662100e+06</td>\n",
              "      <td>220.022503</td>\n",
              "    </tr>\n",
              "    <tr>\n",
              "      <th>max</th>\n",
              "      <td>287.670013</td>\n",
              "      <td>291.420013</td>\n",
              "      <td>280.399994</td>\n",
              "      <td>286.040009</td>\n",
              "      <td>3.716390e+07</td>\n",
              "      <td>286.040009</td>\n",
              "    </tr>\n",
              "  </tbody>\n",
              "</table>\n",
              "</div>\n",
              "      <button class=\"colab-df-convert\" onclick=\"convertToInteractive('df-14eeea9d-9d22-47eb-ab5a-b25d6227269c')\"\n",
              "              title=\"Convert this dataframe to an interactive table.\"\n",
              "              style=\"display:none;\">\n",
              "        \n",
              "  <svg xmlns=\"http://www.w3.org/2000/svg\" height=\"24px\"viewBox=\"0 0 24 24\"\n",
              "       width=\"24px\">\n",
              "    <path d=\"M0 0h24v24H0V0z\" fill=\"none\"/>\n",
              "    <path d=\"M18.56 5.44l.94 2.06.94-2.06 2.06-.94-2.06-.94-.94-2.06-.94 2.06-2.06.94zm-11 1L8.5 8.5l.94-2.06 2.06-.94-2.06-.94L8.5 2.5l-.94 2.06-2.06.94zm10 10l.94 2.06.94-2.06 2.06-.94-2.06-.94-.94-2.06-.94 2.06-2.06.94z\"/><path d=\"M17.41 7.96l-1.37-1.37c-.4-.4-.92-.59-1.43-.59-.52 0-1.04.2-1.43.59L10.3 9.45l-7.72 7.72c-.78.78-.78 2.05 0 2.83L4 21.41c.39.39.9.59 1.41.59.51 0 1.02-.2 1.41-.59l7.78-7.78 2.81-2.81c.8-.78.8-2.07 0-2.86zM5.41 20L4 18.59l7.72-7.72 1.47 1.35L5.41 20z\"/>\n",
              "  </svg>\n",
              "      </button>\n",
              "      \n",
              "  <style>\n",
              "    .colab-df-container {\n",
              "      display:flex;\n",
              "      flex-wrap:wrap;\n",
              "      gap: 12px;\n",
              "    }\n",
              "\n",
              "    .colab-df-convert {\n",
              "      background-color: #E8F0FE;\n",
              "      border: none;\n",
              "      border-radius: 50%;\n",
              "      cursor: pointer;\n",
              "      display: none;\n",
              "      fill: #1967D2;\n",
              "      height: 32px;\n",
              "      padding: 0 0 0 0;\n",
              "      width: 32px;\n",
              "    }\n",
              "\n",
              "    .colab-df-convert:hover {\n",
              "      background-color: #E2EBFA;\n",
              "      box-shadow: 0px 1px 2px rgba(60, 64, 67, 0.3), 0px 1px 3px 1px rgba(60, 64, 67, 0.15);\n",
              "      fill: #174EA6;\n",
              "    }\n",
              "\n",
              "    [theme=dark] .colab-df-convert {\n",
              "      background-color: #3B4455;\n",
              "      fill: #D2E3FC;\n",
              "    }\n",
              "\n",
              "    [theme=dark] .colab-df-convert:hover {\n",
              "      background-color: #434B5C;\n",
              "      box-shadow: 0px 1px 3px 1px rgba(0, 0, 0, 0.15);\n",
              "      filter: drop-shadow(0px 1px 2px rgba(0, 0, 0, 0.3));\n",
              "      fill: #FFFFFF;\n",
              "    }\n",
              "  </style>\n",
              "\n",
              "      <script>\n",
              "        const buttonEl =\n",
              "          document.querySelector('#df-14eeea9d-9d22-47eb-ab5a-b25d6227269c button.colab-df-convert');\n",
              "        buttonEl.style.display =\n",
              "          google.colab.kernel.accessAllowed ? 'block' : 'none';\n",
              "\n",
              "        async function convertToInteractive(key) {\n",
              "          const element = document.querySelector('#df-14eeea9d-9d22-47eb-ab5a-b25d6227269c');\n",
              "          const dataTable =\n",
              "            await google.colab.kernel.invokeFunction('convertToInteractive',\n",
              "                                                     [key], {});\n",
              "          if (!dataTable) return;\n",
              "\n",
              "          const docLinkHtml = 'Like what you see? Visit the ' +\n",
              "            '<a target=\"_blank\" href=https://colab.research.google.com/notebooks/data_table.ipynb>data table notebook</a>'\n",
              "            + ' to learn more about interactive tables.';\n",
              "          element.innerHTML = '';\n",
              "          dataTable['output_type'] = 'display_data';\n",
              "          await google.colab.output.renderOutput(dataTable, element);\n",
              "          const docLink = document.createElement('div');\n",
              "          docLink.innerHTML = docLinkHtml;\n",
              "          element.appendChild(docLink);\n",
              "        }\n",
              "      </script>\n",
              "    </div>\n",
              "  </div>\n",
              "  "
            ]
          },
          "metadata": {},
          "execution_count": 22
        }
      ],
      "source": [
        "tesla.describe()"
      ]
    },
    {
      "cell_type": "code",
      "execution_count": 23,
      "metadata": {
        "colab": {
          "base_uri": "https://localhost:8080/",
          "height": 283
        },
        "id": "rboCNR2BmlbK",
        "outputId": "f1d151a3-580f-47d3-a691-4ae3a0854f01"
      },
      "outputs": [
        {
          "output_type": "execute_result",
          "data": {
            "text/plain": [
              "<matplotlib.axes._subplots.AxesSubplot at 0x7f0bb81dd580>"
            ]
          },
          "metadata": {},
          "execution_count": 23
        },
        {
          "output_type": "display_data",
          "data": {
            "text/plain": [
              "<Figure size 432x288 with 1 Axes>"
            ],
            "image/png": "[encoded data removed]"
          },
          "metadata": {
            "needs_background": "light"
          }
        }
      ],
      "source": [
        "# ccreating box plot to check outliers\n",
        "tesla[['Open','High','Low','Close','Adj Close']].plot(kind='box')"
      ]
    },
    {
      "cell_type": "code",
      "execution_count": 24,
      "metadata": {
        "id": "DOBL1psRmlbK"
      },
      "outputs": [],
      "source": [
        "# Setting the layout for our plot\n",
        "layout = go.Layout(\n",
        "    title='Stock Prices of tesla',\n",
        "    xaxis=dict(\n",
        "        title='Date',\n",
        "        titlefont=dict(\n",
        "            family='Courier New, monospace',\n",
        "            size=18,\n",
        "            color='#7f7f7f'\n",
        "        )\n",
        "    ),\n",
        "    yaxis=dict(\n",
        "        title='Price',\n",
        "        titlefont=dict(\n",
        "            family='Courier New, monospace',\n",
        "            size=18,\n",
        "            color='#7f7f7f'\n",
        "        )\n",
        "    )\n",
        ")\n",
        "\n",
        "spacex_data = [{'x':tesla['Date'], 'y':tesla['Close']}]\n",
        "plot = go.Figure(data=spacex_data, layout=layout)"
      ]
    },
    {
      "cell_type": "code",
      "execution_count": 25,
      "metadata": {
        "colab": {
          "base_uri": "https://localhost:8080/",
          "height": 542
        },
        "id": "yUfDPlIzmlbL",
        "outputId": "f3d55332-6f6a-49b9-e0df-679580edde37"
      },
      "outputs": [
        {
          "output_type": "display_data",
          "data": {
            "text/html": [
              "<html>\n",
              "<head><meta charset=\"utf-8\" /></head>\n",
              "<body>\n",
              "    <div>            <script src=\"https://cdnjs.cloudflare.com/ajax/libs/mathjax/2.7.5/MathJax.js?config=TeX-AMS-MML_SVG\"></script><script type=\"text/javascript\">if (window.MathJax) {MathJax.Hub.Config({SVG: {font: \"STIX-Web\"}});}</script>                <script type=\"text/javascript\">window.PlotlyConfig = {MathJaxConfig: 'local'};</script>\n",
              "        <script src=\"https://cdn.plot.ly/plotly-2.8.3.min.js\"></script>                <div id=\"c7bc5946-eca5-48ae-a058-124744c3bcea\" class=\"plotly-graph-div\" style=\"height:525px; width:100%;\"></div>            <script type=\"text/javascript\">                                    window.PLOTLYENV=window.PLOTLYENV || {};                                    if (document.getElementById(\"c7bc5946-eca5-48ae-a058-124744c3bcea\")) {                    Plotly.newPlot(                        \"c7bc5946-eca5-48ae-a058-124744c3bcea\",                        [{\"x\":[\"2010-06-29T00:00:00\",\"2010-06-30T00:00:00\",\"2010-07-01T00:00:00\",\"2010-07-02T00:00:00\",\"2010-07-06T00:00:00\",\"2010-07-07T00:00:00\",\"2010-07-08T00:00:00\",\"2010-07-09T00:00:00\",\"2010-07-12T00:00:00\",\"2010-07-13T00:00:00\",\"2010-07-14T00:00:00\",\"2010-07-15T00:00:00\",\"2010-07-16T00:00:00\",\"2010-07-19T00:00:00\",\"2010-07-20T00:00:00\",\"2010-07-21T00:00:00\",\"2010-07-22T00:00:00\",\"2010-07-23T00:00:00\",\"2010-07-26T00:00:00\",\"2010-07-27T00:00:00\",\"2010-07-28T00:00:00\",\"2010-07-29T00:00:00\",\"2010-07-30T00:00:00\",\"2010-08-02T00:00:00\",\"2010-08-03T00:00:00\",\"2010-08-04T00:00:00\",\"2010-08-05T00:00:00\",\"2010-08-06T00:00:00\",\"2010-08-09T00:00:00\",\"2010-08-10T00:00:00\",\"2010-08-11T00:00:00\",\"2010-08-12T00:00:00\",\"2010-08-13T00:00:00\",\"2010-08-16T00:00:00\",\"2010-08-17T00:00:00\",\"2010-08-18T00:00:00\",\"2010-08-19T00:00:00\",\"2010-08-20T00:00:00\",\"2010-08-23T00:00:00\",\"2010-08-24T00:00:00\",\"2010-08-25T00:00:00\",\"2010-08-26T00:00:00\",\"2010-08-27T00:00:00\",\"2010-08-30T00:00:00\",\"2010-08-31T00:00:00\",\"2010-09-01T00:00:00\",\"2010-09-02T00:00:00\",\"2010-09-03T00:00:00\",\"2010-09-07T00:00:00\",\"2010-09-08T00:00:00\",\"2010-09-09T00:00:00\",\"2010-09-10T00:00:00\",\"2010-09-13T00:00:00\",\"2010-09-14T00:00:00\",\"2010-09-15T00:00:00\",\"2010-09-16T00:00:00\",\"2010-09-17T00:00:00\",\"2010-09-20T00:00:00\",\"2010-09-21T00:00:00\",\"2010-09-22T00:00:00\",\"2010-09-23T00:00:00\",\"2010-09-24T00:00:00\",\"2010-09-27T00:00:00\",\"2010-09-28T00:00:00\",\"2010-09-29T00:00:00\",\"2010-09-30T00:00:00\",\"2010-10-01T00:00:00\",\"2010-10-04T00:00:00\",\"2010-10-05T00:00:00\",\"2010-10-06T00:00:00\",\"2010-10-07T00:00:00\",\"2010-10-08T00:00:00\",\"2010-10-11T00:00:00\",\"2010-10-12T00:00:00\",\"2010-10-13T00:00:00\",\"2010-10-14T00:00:00\",\"2010-10-15T00:00:00\",\"2010-10-18T00:00:00\",\"2010-10-19T00:00:00\",\"2010-10-20T00:00:00\",\"2010-10-21T00:00:00\",\"2010-10-22T00:00:00\",\"2010-10-25T00:00:00\",\"2010-10-26T00:00:00\",\"2010-10-27T00:00:00\",\"2010-10-28T00:00:00\",\"2010-10-29T00:00:00\",\"2010-11-01T00:00:00\",\"2010-11-02T00:00:00\",\"2010-11-03T00:00:00\",\"2010-11-04T00:00:00\",\"2010-11-05T00:00:00\",\"2010-11-08T00:00:00\",\"2010-11-09T00:00:00\",\"2010-11-10T00:00:00\",\"2010-11-11T00:00:00\",\"2010-11-12T00:00:00\",\"2010-11-15T00:00:00\",\"2010-11-16T00:00:00\",\"2010-11-17T00:00:00\",\"2010-11-18T00:00:00\",\"2010-11-19T00:00:00\",\"2010-11-22T00:00:00\",\"2010-11-23T00:00:00\",\"2010-11-24T00:00:00\",\"2010-11-26T00:00:00\",\"2010-11-29T00:00:00\",\"2010-11-30T00:00:00\",\"2010-12-01T00:00:00\",\"2010-12-02T00:00:00\",\"2010-12-03T00:00:00\",\"2010-12-06T00:00:00\",\"2010-12-07T00:00:00\",\"2010-12-08T00:00:00\",\"2010-12-09T00:00:00\",\"2010-12-10T00:00:00\",\"2010-12-13T00:00:00\",\"2010-12-14T00:00:00\",\"2010-12-15T00:00:00\",\"2010-12-16T00:00:00\",\"2010-12-17T00:00:00\",\"2010-12-20T00:00:00\",\"2010-12-21T00:00:00\",\"2010-12-22T00:00:00\",\"2010-12-23T00:00:00\",\"2010-12-27T00:00:00\",\"2010-12-28T00:00:00\",\"2010-12-29T00:00:00\",\"2010-12-30T00:00:00\",\"2010-12-31T00:00:00\",\"2011-01-03T00:00:00\",\"2011-01-04T00:00:00\",\"2011-01-05T00:00:00\",\"2011-01-06T00:00:00\",\"2011-01-07T00:00:00\",\"2011-01-10T00:00:00\",\"2011-01-11T00:00:00\",\"2011-01-12T00:00:00\",\"2011-01-13T00:00:00\",\"2011-01-14T00:00:00\",\"2011-01-18T00:00:00\",\"2011-01-19T00:00:00\",\"2011-01-20T00:00:00\",\"2011-01-21T00:00:00\",\"2011-01-24T00:00:00\",\"2011-01-25T00:00:00\",\"2011-01-26T00:00:00\",\"2011-01-27T00:00:00\",\"2011-01-28T00:00:00\",\"2011-01-31T00:00:00\",\"2011-02-01T00:00:00\",\"2011-02-02T00:00:00\",\"2011-02-03T00:00:00\",\"2011-02-04T00:00:00\",\"2011-02-07T00:00:00\",\"2011-02-08T00:00:00\",\"2011-02-09T00:00:00\",\"2011-02-10T00:00:00\",\"2011-02-11T00:00:00\",\"2011-02-14T00:00:00\",\"2011-02-15T00:00:00\",\"2011-02-16T00:00:00\",\"2011-02-17T00:00:00\",\"2011-02-18T00:00:00\",\"2011-02-22T00:00:00\",\"2011-02-23T00:00:00\",\"2011-02-24T00:00:00\",\"2011-02-25T00:00:00\",\"2011-02-28T00:00:00\",\"2011-03-01T00:00:00\",\"2011-03-02T00:00:00\",\"2011-03-03T00:00:00\",\"2011-03-04T00:00:00\",\"2011-03-07T00:00:00\",\"2011-03-08T00:00:00\",\"2011-03-09T00:00:00\",\"2011-03-10T00:00:00\",\"2011-03-11T00:00:00\",\"2011-03-14T00:00:00\",\"2011-03-15T00:00:00\",\"2011-03-16T00:00:00\",\"2011-03-17T00:00:00\",\"2011-03-18T00:00:00\",\"2011-03-21T00:00:00\",\"2011-03-22T00:00:00\",\"2011-03-23T00:00:00\",\"2011-03-24T00:00:00\",\"2011-03-25T00:00:00\",\"2011-03-28T00:00:00\",\"2011-03-29T00:00:00\",\"2011-03-30T00:00:00\",\"2011-03-31T00:00:00\",\"2011-04-01T00:00:00\",\"2011-04-04T00:00:00\",\"2011-04-05T00:00:00\",\"2011-04-06T00:00:00\",\"2011-04-07T00:00:00\",\"2011-04-08T00:00:00\",\"2011-04-11T00:00:00\",\"2011-04-12T00:00:00\",\"2011-04-13T00:00:00\",\"2011-04-14T00:00:00\",\"2011-04-15T00:00:00\",\"2011-04-18T00:00:00\",\"2011-04-19T00:00:00\",\"2011-04-20T00:00:00\",\"2011-04-21T00:00:00\",\"2011-04-25T00:00:00\",\"2011-04-26T00:00:00\",\"2011-04-27T00:00:00\",\"2011-04-28T00:00:00\",\"2011-04-29T00:00:00\",\"2011-05-02T00:00:00\",\"2011-05-03T00:00:00\",\"2011-05-04T00:00:00\",\"2011-05-05T00:00:00\",\"2011-05-06T00:00:00\",\"2011-05-09T00:00:00\",\"2011-05-10T00:00:00\",\"2011-05-11T00:00:00\",\"2011-05-12T00:00:00\",\"2011-05-13T00:00:00\",\"2011-05-16T00:00:00\",\"2011-05-17T00:00:00\",\"2011-05-18T00:00:00\",\"2011-05-19T00:00:00\",\"2011-05-20T00:00:00\",\"2011-05-23T00:00:00\",\"2011-05-24T00:00:00\",\"2011-05-25T00:00:00\",\"2011-05-26T00:00:00\",\"2011-05-27T00:00:00\",\"2011-05-31T00:00:00\",\"2011-06-01T00:00:00\",\"2011-06-02T00:00:00\",\"2011-06-03T00:00:00\",\"2011-06-06T00:00:00\",\"2011-06-07T00:00:00\",\"2011-06-08T00:00:00\",\"2011-06-09T00:00:00\",\"2011-06-10T00:00:00\",\"2011-06-13T00:00:00\",\"2011-06-14T00:00:00\",\"2011-06-15T00:00:00\",\"2011-06-16T00:00:00\",\"2011-06-17T00:00:00\",\"2011-06-20T00:00:00\",\"2011-06-21T00:00:00\",\"2011-06-22T00:00:00\",\"2011-06-23T00:00:00\",\"2011-06-24T00:00:00\",\"2011-06-27T00:00:00\",\"2011-06-28T00:00:00\",\"2011-06-29T00:00:00\",\"2011-06-30T00:00:00\",\"2011-07-01T00:00:00\",\"2011-07-05T00:00:00\",\"2011-07-06T00:00:00\",\"2011-07-07T00:00:00\",\"2011-07-08T00:00:00\",\"2011-07-11T00:00:00\",\"2011-07-12T00:00:00\",\"2011-07-13T00:00:00\",\"2011-07-14T00:00:00\",\"2011-07-15T00:00:00\",\"2011-07-18T00:00:00\",\"2011-07-19T00:00:00\",\"2011-07-20T00:00:00\",\"2011-07-21T00:00:00\",\"2011-07-22T00:00:00\",\"2011-07-25T00:00:00\",\"2011-07-26T00:00:00\",\"2011-07-27T00:00:00\",\"2011-07-28T00:00:00\",\"2011-07-29T00:00:00\",\"2011-08-01T00:00:00\",\"2011-08-02T00:00:00\",\"2011-08-03T00:00:00\",\"2011-08-04T00:00:00\",\"2011-08-05T00:00:00\",\"2011-08-08T00:00:00\",\"2011-08-09T00:00:00\",\"2011-08-10T00:00:00\",\"2011-08-11T00:00:00\",\"2011-08-12T00:00:00\",\"2011-08-15T00:00:00\",\"2011-08-16T00:00:00\",\"2011-08-17T00:00:00\",\"2011-08-18T00:00:00\",\"2011-08-19T00:00:00\",\"2011-08-22T00:00:00\",\"2011-08-23T00:00:00\",\"2011-08-24T00:00:00\",\"2011-08-25T00:00:00\",\"2011-08-26T00:00:00\",\"2011-08-29T00:00:00\",\"2011-08-30T00:00:00\",\"2011-08-31T00:00:00\",\"2011-09-01T00:00:00\",\"2011-09-02T00:00:00\",\"2011-09-06T00:00:00\",\"2011-09-07T00:00:00\",\"2011-09-08T00:00:00\",\"2011-09-09T00:00:00\",\"2011-09-12T00:00:00\",\"2011-09-13T00:00:00\",\"2011-09-14T00:00:00\",\"2011-09-15T00:00:00\",\"2011-09-16T00:00:00\",\"2011-09-19T00:00:00\",\"2011-09-20T00:00:00\",\"2011-09-21T00:00:00\",\"2011-09-22T00:00:00\",\"2011-09-23T00:00:00\",\"2011-09-26T00:00:00\",\"2011-09-27T00:00:00\",\"2011-09-28T00:00:00\",\"2011-09-29T00:00:00\",\"2011-09-30T00:00:00\",\"2011-10-03T00:00:00\",\"2011-10-04T00:00:00\",\"2011-10-05T00:00:00\",\"2011-10-06T00:00:00\",\"2011-10-07T00:00:00\",\"2011-10-10T00:00:00\",\"2011-10-11T00:00:00\",\"2011-10-12T00:00:00\",\"2011-10-13T00:00:00\",\"2011-10-14T00:00:00\",\"2011-10-17T00:00:00\",\"2011-10-18T00:00:00\",\"2011-10-19T00:00:00\",\"2011-10-20T00:00:00\",\"2011-10-21T00:00:00\",\"2011-10-24T00:00:00\",\"2011-10-25T00:00:00\",\"2011-10-26T00:00:00\",\"2011-10-27T00:00:00\",\"2011-10-28T00:00:00\",\"2011-10-31T00:00:00\",\"2011-11-01T00:00:00\",\"2011-11-02T00:00:00\",\"2011-11-03T00:00:00\",\"2011-11-04T00:00:00\",\"2011-11-07T00:00:00\",\"2011-11-08T00:00:00\",\"2011-11-09T00:00:00\",\"2011-11-10T00:00:00\",\"2011-11-11T00:00:00\",\"2011-11-14T00:00:00\",\"2011-11-15T00:00:00\",\"2011-11-16T00:00:00\",\"2011-11-17T00:00:00\",\"2011-11-18T00:00:00\",\"2011-11-21T00:00:00\",\"2011-11-22T00:00:00\",\"2011-11-23T00:00:00\",\"2011-11-25T00:00:00\",\"2011-11-28T00:00:00\",\"2011-11-29T00:00:00\",\"2011-11-30T00:00:00\",\"2011-12-01T00:00:00\",\"2011-12-02T00:00:00\",\"2011-12-05T00:00:00\",\"2011-12-06T00:00:00\",\"2011-12-07T00:00:00\",\"2011-12-08T00:00:00\",\"2011-12-09T00:00:00\",\"2011-12-12T00:00:00\",\"2011-12-13T00:00:00\",\"2011-12-14T00:00:00\",\"2011-12-15T00:00:00\",\"2011-12-16T00:00:00\",\"2011-12-19T00:00:00\",\"2011-12-20T00:00:00\",\"2011-12-21T00:00:00\",\"2011-12-22T00:00:00\",\"2011-12-23T00:00:00\",\"2011-12-27T00:00:00\",\"2011-12-28T00:00:00\",\"2011-12-29T00:00:00\",\"2011-12-30T00:00:00\",\"2012-01-03T00:00:00\",\"2012-01-04T00:00:00\",\"2012-01-05T00:00:00\",\"2012-01-06T00:00:00\",\"2012-01-09T00:00:00\",\"2012-01-10T00:00:00\",\"2012-01-11T00:00:00\",\"2012-01-12T00:00:00\",\"2012-01-13T00:00:00\",\"2012-01-17T00:00:00\",\"2012-01-18T00:00:00\",\"2012-01-19T00:00:00\",\"2012-01-20T00:00:00\",\"2012-01-23T00:00:00\",\"2012-01-24T00:00:00\",\"2012-01-25T00:00:00\",\"2012-01-26T00:00:00\",\"2012-01-27T00:00:00\",\"2012-01-30T00:00:00\",\"2012-01-31T00:00:00\",\"2012-02-01T00:00:00\",\"2012-02-02T00:00:00\",\"2012-02-03T00:00:00\",\"2012-02-06T00:00:00\",\"2012-02-07T00:00:00\",\"2012-02-08T00:00:00\",\"2012-02-09T00:00:00\",\"2012-02-10T00:00:00\",\"2012-02-13T00:00:00\",\"2012-02-14T00:00:00\",\"2012-02-15T00:00:00\",\"2012-02-16T00:00:00\",\"2012-02-17T00:00:00\",\"2012-02-21T00:00:00\",\"2012-02-22T00:00:00\",\"2012-02-23T00:00:00\",\"2012-02-24T00:00:00\",\"2012-02-27T00:00:00\",\"2012-02-28T00:00:00\",\"2012-02-29T00:00:00\",\"2012-03-01T00:00:00\",\"2012-03-02T00:00:00\",\"2012-03-05T00:00:00\",\"2012-03-06T00:00:00\",\"2012-03-07T00:00:00\",\"2012-03-08T00:00:00\",\"2012-03-09T00:00:00\",\"2012-03-12T00:00:00\",\"2012-03-13T00:00:00\",\"2012-03-14T00:00:00\",\"2012-03-15T00:00:00\",\"2012-03-16T00:00:00\",\"2012-03-19T00:00:00\",\"2012-03-20T00:00:00\",\"2012-03-21T00:00:00\",\"2012-03-22T00:00:00\",\"2012-03-23T00:00:00\",\"2012-03-26T00:00:00\",\"2012-03-27T00:00:00\",\"2012-03-28T00:00:00\",\"2012-03-29T00:00:00\",\"2012-03-30T00:00:00\",\"2012-04-02T00:00:00\",\"2012-04-03T00:00:00\",\"2012-04-04T00:00:00\",\"2012-04-05T00:00:00\",\"2012-04-09T00:00:00\",\"2012-04-10T00:00:00\",\"2012-04-11T00:00:00\",\"2012-04-12T00:00:00\",\"2012-04-13T00:00:00\",\"2012-04-16T00:00:00\",\"2012-04-17T00:00:00\",\"2012-04-18T00:00:00\",\"2012-04-19T00:00:00\",\"2012-04-20T00:00:00\",\"2012-04-23T00:00:00\",\"2012-04-24T00:00:00\",\"2012-04-25T00:00:00\",\"2012-04-26T00:00:00\",\"2012-04-27T00:00:00\",\"2012-04-30T00:00:00\",\"2012-05-01T00:00:00\",\"2012-05-02T00:00:00\",\"2012-05-03T00:00:00\",\"2012-05-04T00:00:00\",\"2012-05-07T00:00:00\",\"2012-05-08T00:00:00\",\"2012-05-09T00:00:00\",\"2012-05-10T00:00:00\",\"2012-05-11T00:00:00\",\"2012-05-14T00:00:00\",\"2012-05-15T00:00:00\",\"2012-05-16T00:00:00\",\"2012-05-17T00:00:00\",\"2012-05-18T00:00:00\",\"2012-05-21T00:00:00\",\"2012-05-22T00:00:00\",\"2012-05-23T00:00:00\",\"2012-05-24T00:00:00\",\"2012-05-25T00:00:00\",\"2012-05-29T00:00:00\",\"2012-05-30T00:00:00\",\"2012-05-31T00:00:00\",\"2012-06-01T00:00:00\",\"2012-06-04T00:00:00\",\"2012-06-05T00:00:00\",\"2012-06-06T00:00:00\",\"2012-06-07T00:00:00\",\"2012-06-08T00:00:00\",\"2012-06-11T00:00:00\",\"2012-06-12T00:00:00\",\"2012-06-13T00:00:00\",\"2012-06-14T00:00:00\",\"2012-06-15T00:00:00\",\"2012-06-18T00:00:00\",\"2012-06-19T00:00:00\",\"2012-06-20T00:00:00\",\"2012-06-21T00:00:00\",\"2012-06-22T00:00:00\",\"2012-06-25T00:00:00\",\"2012-06-26T00:00:00\",\"2012-06-27T00:00:00\",\"2012-06-28T00:00:00\",\"2012-06-29T00:00:00\",\"2012-07-02T00:00:00\",\"2012-07-03T00:00:00\",\"2012-07-05T00:00:00\",\"2012-07-06T00:00:00\",\"2012-07-09T00:00:00\",\"2012-07-10T00:00:00\",\"2012-07-11T00:00:00\",\"2012-07-12T00:00:00\",\"2012-07-13T00:00:00\",\"2012-07-16T00:00:00\",\"2012-07-17T00:00:00\",\"2012-07-18T00:00:00\",\"2012-07-19T00:00:00\",\"2012-07-20T00:00:00\",\"2012-07-23T00:00:00\",\"2012-07-24T00:00:00\",\"2012-07-25T00:00:00\",\"2012-07-26T00:00:00\",\"2012-07-27T00:00:00\",\"2012-07-30T00:00:00\",\"2012-07-31T00:00:00\",\"2012-08-01T00:00:00\",\"2012-08-02T00:00:00\",\"2012-08-03T00:00:00\",\"2012-08-06T00:00:00\",\"2012-08-07T00:00:00\",\"2012-08-08T00:00:00\",\"2012-08-09T00:00:00\",\"2012-08-10T00:00:00\",\"2012-08-13T00:00:00\",\"2012-08-14T00:00:00\",\"2012-08-15T00:00:00\",\"2012-08-16T00:00:00\",\"2012-08-17T00:00:00\",\"2012-08-20T00:00:00\",\"2012-08-21T00:00:00\",\"2012-08-22T00:00:00\",\"2012-08-23T00:00:00\",\"2012-08-24T00:00:00\",\"2012-08-27T00:00:00\",\"2012-08-28T00:00:00\",\"2012-08-29T00:00:00\",\"2012-08-30T00:00:00\",\"2012-08-31T00:00:00\",\"2012-09-04T00:00:00\",\"2012-09-05T00:00:00\",\"2012-09-06T00:00:00\",\"2012-09-07T00:00:00\",\"2012-09-10T00:00:00\",\"2012-09-11T00:00:00\",\"2012-09-12T00:00:00\",\"2012-09-13T00:00:00\",\"2012-09-14T00:00:00\",\"2012-09-17T00:00:00\",\"2012-09-18T00:00:00\",\"2012-09-19T00:00:00\",\"2012-09-20T00:00:00\",\"2012-09-21T00:00:00\",\"2012-09-24T00:00:00\",\"2012-09-25T00:00:00\",\"2012-09-26T00:00:00\",\"2012-09-27T00:00:00\",\"2012-09-28T00:00:00\",\"2012-10-01T00:00:00\",\"2012-10-02T00:00:00\",\"2012-10-03T00:00:00\",\"2012-10-04T00:00:00\",\"2012-10-05T00:00:00\",\"2012-10-08T00:00:00\",\"2012-10-09T00:00:00\",\"2012-10-10T00:00:00\",\"2012-10-11T00:00:00\",\"2012-10-12T00:00:00\",\"2012-10-15T00:00:00\",\"2012-10-16T00:00:00\",\"2012-10-17T00:00:00\",\"2012-10-18T00:00:00\",\"2012-10-19T00:00:00\",\"2012-10-22T00:00:00\",\"2012-10-23T00:00:00\",\"2012-10-24T00:00:00\",\"2012-10-25T00:00:00\",\"2012-10-26T00:00:00\",\"2012-10-31T00:00:00\",\"2012-11-01T00:00:00\",\"2012-11-02T00:00:00\",\"2012-11-05T00:00:00\",\"2012-11-06T00:00:00\",\"2012-11-07T00:00:00\",\"2012-11-08T00:00:00\",\"2012-11-09T00:00:00\",\"2012-11-12T00:00:00\",\"2012-11-13T00:00:00\",\"2012-11-14T00:00:00\",\"2012-11-15T00:00:00\",\"2012-11-16T00:00:00\",\"2012-11-19T00:00:00\",\"2012-11-20T00:00:00\",\"2012-11-21T00:00:00\",\"2012-11-23T00:00:00\",\"2012-11-26T00:00:00\",\"2012-11-27T00:00:00\",\"2012-11-28T00:00:00\",\"2012-11-29T00:00:00\",\"2012-11-30T00:00:00\",\"2012-12-03T00:00:00\",\"2012-12-04T00:00:00\",\"2012-12-05T00:00:00\",\"2012-12-06T00:00:00\",\"2012-12-07T00:00:00\",\"2012-12-10T00:00:00\",\"2012-12-11T00:00:00\",\"2012-12-12T00:00:00\",\"2012-12-13T00:00:00\",\"2012-12-14T00:00:00\",\"2012-12-17T00:00:00\",\"2012-12-18T00:00:00\",\"2012-12-19T00:00:00\",\"2012-12-20T00:00:00\",\"2012-12-21T00:00:00\",\"2012-12-24T00:00:00\",\"2012-12-26T00:00:00\",\"2012-12-27T00:00:00\",\"2012-12-28T00:00:00\",\"2012-12-31T00:00:00\",\"2013-01-02T00:00:00\",\"2013-01-03T00:00:00\",\"2013-01-04T00:00:00\",\"2013-01-07T00:00:00\",\"2013-01-08T00:00:00\",\"2013-01-09T00:00:00\",\"2013-01-10T00:00:00\",\"2013-01-11T00:00:00\",\"2013-01-14T00:00:00\",\"2013-01-15T00:00:00\",\"2013-01-16T00:00:00\",\"2013-01-17T00:00:00\",\"2013-01-18T00:00:00\",\"2013-01-22T00:00:00\",\"2013-01-23T00:00:00\",\"2013-01-24T00:00:00\",\"2013-01-25T00:00:00\",\"2013-01-28T00:00:00\",\"2013-01-29T00:00:00\",\"2013-01-30T00:00:00\",\"2013-01-31T00:00:00\",\"2013-02-01T00:00:00\",\"2013-02-04T00:00:00\",\"2013-02-05T00:00:00\",\"2013-02-06T00:00:00\",\"2013-02-07T00:00:00\",\"2013-02-08T00:00:00\",\"2013-02-11T00:00:00\",\"2013-02-12T00:00:00\",\"2013-02-13T00:00:00\",\"2013-02-14T00:00:00\",\"2013-02-15T00:00:00\",\"2013-02-19T00:00:00\",\"2013-02-20T00:00:00\",\"2013-02-21T00:00:00\",\"2013-02-22T00:00:00\",\"2013-02-25T00:00:00\",\"2013-02-26T00:00:00\",\"2013-02-27T00:00:00\",\"2013-02-28T00:00:00\",\"2013-03-01T00:00:00\",\"2013-03-04T00:00:00\",\"2013-03-05T00:00:00\",\"2013-03-06T00:00:00\",\"2013-03-07T00:00:00\",\"2013-03-08T00:00:00\",\"2013-03-11T00:00:00\",\"2013-03-12T00:00:00\",\"2013-03-13T00:00:00\",\"2013-03-14T00:00:00\",\"2013-03-15T00:00:00\",\"2013-03-18T00:00:00\",\"2013-03-19T00:00:00\",\"2013-03-20T00:00:00\",\"2013-03-21T00:00:00\",\"2013-03-22T00:00:00\",\"2013-03-25T00:00:00\",\"2013-03-26T00:00:00\",\"2013-03-27T00:00:00\",\"2013-03-28T00:00:00\",\"2013-04-01T00:00:00\",\"2013-04-02T00:00:00\",\"2013-04-03T00:00:00\",\"2013-04-04T00:00:00\",\"2013-04-05T00:00:00\",\"2013-04-08T00:00:00\",\"2013-04-09T00:00:00\",\"2013-04-10T00:00:00\",\"2013-04-11T00:00:00\",\"2013-04-12T00:00:00\",\"2013-04-15T00:00:00\",\"2013-04-16T00:00:00\",\"2013-04-17T00:00:00\",\"2013-04-18T00:00:00\",\"2013-04-19T00:00:00\",\"2013-04-22T00:00:00\",\"2013-04-23T00:00:00\",\"2013-04-24T00:00:00\",\"2013-04-25T00:00:00\",\"2013-04-26T00:00:00\",\"2013-04-29T00:00:00\",\"2013-04-30T00:00:00\",\"2013-05-01T00:00:00\",\"2013-05-02T00:00:00\",\"2013-05-03T00:00:00\",\"2013-05-06T00:00:00\",\"2013-05-07T00:00:00\",\"2013-05-08T00:00:00\",\"2013-05-09T00:00:00\",\"2013-05-10T00:00:00\",\"2013-05-13T00:00:00\",\"2013-05-14T00:00:00\",\"2013-05-15T00:00:00\",\"2013-05-16T00:00:00\",\"2013-05-17T00:00:00\",\"2013-05-20T00:00:00\",\"2013-05-21T00:00:00\",\"2013-05-22T00:00:00\",\"2013-05-23T00:00:00\",\"2013-05-24T00:00:00\",\"2013-05-28T00:00:00\",\"2013-05-29T00:00:00\",\"2013-05-30T00:00:00\",\"2013-05-31T00:00:00\",\"2013-06-03T00:00:00\",\"2013-06-04T00:00:00\",\"2013-06-05T00:00:00\",\"2013-06-06T00:00:00\",\"2013-06-07T00:00:00\",\"2013-06-10T00:00:00\",\"2013-06-11T00:00:00\",\"2013-06-12T00:00:00\",\"2013-06-13T00:00:00\",\"2013-06-14T00:00:00\",\"2013-06-17T00:00:00\",\"2013-06-18T00:00:00\",\"2013-06-19T00:00:00\",\"2013-06-20T00:00:00\",\"2013-06-21T00:00:00\",\"2013-06-24T00:00:00\",\"2013-06-25T00:00:00\",\"2013-06-26T00:00:00\",\"2013-06-27T00:00:00\",\"2013-06-28T00:00:00\",\"2013-07-01T00:00:00\",\"2013-07-02T00:00:00\",\"2013-07-03T00:00:00\",\"2013-07-05T00:00:00\",\"2013-07-08T00:00:00\",\"2013-07-09T00:00:00\",\"2013-07-10T00:00:00\",\"2013-07-11T00:00:00\",\"2013-07-12T00:00:00\",\"2013-07-15T00:00:00\",\"2013-07-16T00:00:00\",\"2013-07-17T00:00:00\",\"2013-07-18T00:00:00\",\"2013-07-19T00:00:00\",\"2013-07-22T00:00:00\",\"2013-07-23T00:00:00\",\"2013-07-24T00:00:00\",\"2013-07-25T00:00:00\",\"2013-07-26T00:00:00\",\"2013-07-29T00:00:00\",\"2013-07-30T00:00:00\",\"2013-07-31T00:00:00\",\"2013-08-01T00:00:00\",\"2013-08-02T00:00:00\",\"2013-08-05T00:00:00\",\"2013-08-06T00:00:00\",\"2013-08-07T00:00:00\",\"2013-08-08T00:00:00\",\"2013-08-09T00:00:00\",\"2013-08-12T00:00:00\",\"2013-08-13T00:00:00\",\"2013-08-14T00:00:00\",\"2013-08-15T00:00:00\",\"2013-08-16T00:00:00\",\"2013-08-19T00:00:00\",\"2013-08-20T00:00:00\",\"2013-08-21T00:00:00\",\"2013-08-22T00:00:00\",\"2013-08-23T00:00:00\",\"2013-08-26T00:00:00\",\"2013-08-27T00:00:00\",\"2013-08-28T00:00:00\",\"2013-08-29T00:00:00\",\"2013-08-30T00:00:00\",\"2013-09-03T00:00:00\",\"2013-09-04T00:00:00\",\"2013-09-05T00:00:00\",\"2013-09-06T00:00:00\",\"2013-09-09T00:00:00\",\"2013-09-10T00:00:00\",\"2013-09-11T00:00:00\",\"2013-09-12T00:00:00\",\"2013-09-13T00:00:00\",\"2013-09-16T00:00:00\",\"2013-09-17T00:00:00\",\"2013-09-18T00:00:00\",\"2013-09-19T00:00:00\",\"2013-09-20T00:00:00\",\"2013-09-23T00:00:00\",\"2013-09-24T00:00:00\",\"2013-09-25T00:00:00\",\"2013-09-26T00:00:00\",\"2013-09-27T00:00:00\",\"2013-09-30T00:00:00\",\"2013-10-01T00:00:00\",\"2013-10-02T00:00:00\",\"2013-10-03T00:00:00\",\"2013-10-04T00:00:00\",\"2013-10-07T00:00:00\",\"2013-10-08T00:00:00\",\"2013-10-09T00:00:00\",\"2013-10-10T00:00:00\",\"2013-10-11T00:00:00\",\"2013-10-14T00:00:00\",\"2013-10-15T00:00:00\",\"2013-10-16T00:00:00\",\"2013-10-17T00:00:00\",\"2013-10-18T00:00:00\",\"2013-10-21T00:00:00\",\"2013-10-22T00:00:00\",\"2013-10-23T00:00:00\",\"2013-10-24T00:00:00\",\"2013-10-25T00:00:00\",\"2013-10-28T00:00:00\",\"2013-10-29T00:00:00\",\"2013-10-30T00:00:00\",\"2013-10-31T00:00:00\",\"2013-11-01T00:00:00\",\"2013-11-04T00:00:00\",\"2013-11-05T00:00:00\",\"2013-11-06T00:00:00\",\"2013-11-07T00:00:00\",\"2013-11-08T00:00:00\",\"2013-11-11T00:00:00\",\"2013-11-12T00:00:00\",\"2013-11-13T00:00:00\",\"2013-11-14T00:00:00\",\"2013-11-15T00:00:00\",\"2013-11-18T00:00:00\",\"2013-11-19T00:00:00\",\"2013-11-20T00:00:00\",\"2013-11-21T00:00:00\",\"2013-11-22T00:00:00\",\"2013-11-25T00:00:00\",\"2013-11-26T00:00:00\",\"2013-11-27T00:00:00\",\"2013-11-29T00:00:00\",\"2013-12-02T00:00:00\",\"2013-12-03T00:00:00\",\"2013-12-04T00:00:00\",\"2013-12-05T00:00:00\",\"2013-12-06T00:00:00\",\"2013-12-09T00:00:00\",\"2013-12-10T00:00:00\",\"2013-12-11T00:00:00\",\"2013-12-12T00:00:00\",\"2013-12-13T00:00:00\",\"2013-12-16T00:00:00\",\"2013-12-17T00:00:00\",\"2013-12-18T00:00:00\",\"2013-12-19T00:00:00\",\"2013-12-20T00:00:00\",\"2013-12-23T00:00:00\",\"2013-12-24T00:00:00\",\"2013-12-26T00:00:00\",\"2013-12-27T00:00:00\",\"2013-12-30T00:00:00\",\"2013-12-31T00:00:00\",\"2014-01-02T00:00:00\",\"2014-01-03T00:00:00\",\"2014-01-06T00:00:00\",\"2014-01-07T00:00:00\",\"2014-01-08T00:00:00\",\"2014-01-09T00:00:00\",\"2014-01-10T00:00:00\",\"2014-01-13T00:00:00\",\"2014-01-14T00:00:00\",\"2014-01-15T00:00:00\",\"2014-01-16T00:00:00\",\"2014-01-17T00:00:00\",\"2014-01-21T00:00:00\",\"2014-01-22T00:00:00\",\"2014-01-23T00:00:00\",\"2014-01-24T00:00:00\",\"2014-01-27T00:00:00\",\"2014-01-28T00:00:00\",\"2014-01-29T00:00:00\",\"2014-01-30T00:00:00\",\"2014-01-31T00:00:00\",\"2014-02-03T00:00:00\",\"2014-02-04T00:00:00\",\"2014-02-05T00:00:00\",\"2014-02-06T00:00:00\",\"2014-02-07T00:00:00\",\"2014-02-10T00:00:00\",\"2014-02-11T00:00:00\",\"2014-02-12T00:00:00\",\"2014-02-13T00:00:00\",\"2014-02-14T00:00:00\",\"2014-02-18T00:00:00\",\"2014-02-19T00:00:00\",\"2014-02-20T00:00:00\",\"2014-02-21T00:00:00\",\"2014-02-24T00:00:00\",\"2014-02-25T00:00:00\",\"2014-02-26T00:00:00\",\"2014-02-27T00:00:00\",\"2014-02-28T00:00:00\",\"2014-03-03T00:00:00\",\"2014-03-04T00:00:00\",\"2014-03-05T00:00:00\",\"2014-03-06T00:00:00\",\"2014-03-07T00:00:00\",\"2014-03-10T00:00:00\",\"2014-03-11T00:00:00\",\"2014-03-12T00:00:00\",\"2014-03-13T00:00:00\",\"2014-03-14T00:00:00\",\"2014-03-17T00:00:00\",\"2014-03-18T00:00:00\",\"2014-03-19T00:00:00\",\"2014-03-20T00:00:00\",\"2014-03-21T00:00:00\",\"2014-03-24T00:00:00\",\"2014-03-25T00:00:00\",\"2014-03-26T00:00:00\",\"2014-03-27T00:00:00\",\"2014-03-28T00:00:00\",\"2014-03-31T00:00:00\",\"2014-04-01T00:00:00\",\"2014-04-02T00:00:00\",\"2014-04-03T00:00:00\",\"2014-04-04T00:00:00\",\"2014-04-07T00:00:00\",\"2014-04-08T00:00:00\",\"2014-04-09T00:00:00\",\"2014-04-10T00:00:00\",\"2014-04-11T00:00:00\",\"2014-04-14T00:00:00\",\"2014-04-15T00:00:00\",\"2014-04-16T00:00:00\",\"2014-04-17T00:00:00\",\"2014-04-21T00:00:00\",\"2014-04-22T00:00:00\",\"2014-04-23T00:00:00\",\"2014-04-24T00:00:00\",\"2014-04-25T00:00:00\",\"2014-04-28T00:00:00\",\"2014-04-29T00:00:00\",\"2014-04-30T00:00:00\",\"2014-05-01T00:00:00\",\"2014-05-02T00:00:00\",\"2014-05-05T00:00:00\",\"2014-05-06T00:00:00\",\"2014-05-07T00:00:00\",\"2014-05-08T00:00:00\",\"2014-05-09T00:00:00\",\"2014-05-12T00:00:00\",\"2014-05-13T00:00:00\",\"2014-05-14T00:00:00\",\"2014-05-15T00:00:00\",\"2014-05-16T00:00:00\",\"2014-05-19T00:00:00\",\"2014-05-20T00:00:00\",\"2014-05-21T00:00:00\",\"2014-05-22T00:00:00\",\"2014-05-23T00:00:00\",\"2014-05-27T00:00:00\",\"2014-05-28T00:00:00\",\"2014-05-29T00:00:00\",\"2014-05-30T00:00:00\",\"2014-06-02T00:00:00\",\"2014-06-03T00:00:00\",\"2014-06-04T00:00:00\",\"2014-06-05T00:00:00\",\"2014-06-06T00:00:00\",\"2014-06-09T00:00:00\",\"2014-06-10T00:00:00\",\"2014-06-11T00:00:00\",\"2014-06-12T00:00:00\",\"2014-06-13T00:00:00\",\"2014-06-16T00:00:00\",\"2014-06-17T00:00:00\",\"2014-06-18T00:00:00\",\"2014-06-19T00:00:00\",\"2014-06-20T00:00:00\",\"2014-06-23T00:00:00\",\"2014-06-24T00:00:00\",\"2014-06-25T00:00:00\",\"2014-06-26T00:00:00\",\"2014-06-27T00:00:00\",\"2014-06-30T00:00:00\",\"2014-07-01T00:00:00\",\"2014-07-02T00:00:00\",\"2014-07-03T00:00:00\",\"2014-07-07T00:00:00\",\"2014-07-08T00:00:00\",\"2014-07-09T00:00:00\",\"2014-07-10T00:00:00\",\"2014-07-11T00:00:00\",\"2014-07-14T00:00:00\",\"2014-07-15T00:00:00\",\"2014-07-16T00:00:00\",\"2014-07-17T00:00:00\",\"2014-07-18T00:00:00\",\"2014-07-21T00:00:00\",\"2014-07-22T00:00:00\",\"2014-07-23T00:00:00\",\"2014-07-24T00:00:00\",\"2014-07-25T00:00:00\",\"2014-07-28T00:00:00\",\"2014-07-29T00:00:00\",\"2014-07-30T00:00:00\",\"2014-07-31T00:00:00\",\"2014-08-01T00:00:00\",\"2014-08-04T00:00:00\",\"2014-08-05T00:00:00\",\"2014-08-06T00:00:00\",\"2014-08-07T00:00:00\",\"2014-08-08T00:00:00\",\"2014-08-11T00:00:00\",\"2014-08-12T00:00:00\",\"2014-08-13T00:00:00\",\"2014-08-14T00:00:00\",\"2014-08-15T00:00:00\",\"2014-08-18T00:00:00\",\"2014-08-19T00:00:00\",\"2014-08-20T00:00:00\",\"2014-08-21T00:00:00\",\"2014-08-22T00:00:00\",\"2014-08-25T00:00:00\",\"2014-08-26T00:00:00\",\"2014-08-27T00:00:00\",\"2014-08-28T00:00:00\",\"2014-08-29T00:00:00\",\"2014-09-02T00:00:00\",\"2014-09-03T00:00:00\",\"2014-09-04T00:00:00\",\"2014-09-05T00:00:00\",\"2014-09-08T00:00:00\",\"2014-09-09T00:00:00\",\"2014-09-10T00:00:00\",\"2014-09-11T00:00:00\",\"2014-09-12T00:00:00\",\"2014-09-15T00:00:00\",\"2014-09-16T00:00:00\",\"2014-09-17T00:00:00\",\"2014-09-18T00:00:00\",\"2014-09-19T00:00:00\",\"2014-09-22T00:00:00\",\"2014-09-23T00:00:00\",\"2014-09-24T00:00:00\",\"2014-09-25T00:00:00\",\"2014-09-26T00:00:00\",\"2014-09-29T00:00:00\",\"2014-09-30T00:00:00\",\"2014-10-01T00:00:00\",\"2014-10-02T00:00:00\",\"2014-10-03T00:00:00\",\"2014-10-06T00:00:00\",\"2014-10-07T00:00:00\",\"2014-10-08T00:00:00\",\"2014-10-09T00:00:00\",\"2014-10-10T00:00:00\",\"2014-10-13T00:00:00\",\"2014-10-14T00:00:00\",\"2014-10-15T00:00:00\",\"2014-10-16T00:00:00\",\"2014-10-17T00:00:00\",\"2014-10-20T00:00:00\",\"2014-10-21T00:00:00\",\"2014-10-22T00:00:00\",\"2014-10-23T00:00:00\",\"2014-10-24T00:00:00\",\"2014-10-27T00:00:00\",\"2014-10-28T00:00:00\",\"2014-10-29T00:00:00\",\"2014-10-30T00:00:00\",\"2014-10-31T00:00:00\",\"2014-11-03T00:00:00\",\"2014-11-04T00:00:00\",\"2014-11-05T00:00:00\",\"2014-11-06T00:00:00\",\"2014-11-07T00:00:00\",\"2014-11-10T00:00:00\",\"2014-11-11T00:00:00\",\"2014-11-12T00:00:00\",\"2014-11-13T00:00:00\",\"2014-11-14T00:00:00\",\"2014-11-17T00:00:00\",\"2014-11-18T00:00:00\",\"2014-11-19T00:00:00\",\"2014-11-20T00:00:00\",\"2014-11-21T00:00:00\",\"2014-11-24T00:00:00\",\"2014-11-25T00:00:00\",\"2014-11-26T00:00:00\",\"2014-11-28T00:00:00\",\"2014-12-01T00:00:00\",\"2014-12-02T00:00:00\",\"2014-12-03T00:00:00\",\"2014-12-04T00:00:00\",\"2014-12-05T00:00:00\",\"2014-12-08T00:00:00\",\"2014-12-09T00:00:00\",\"2014-12-10T00:00:00\",\"2014-12-11T00:00:00\",\"2014-12-12T00:00:00\",\"2014-12-15T00:00:00\",\"2014-12-16T00:00:00\",\"2014-12-17T00:00:00\",\"2014-12-18T00:00:00\",\"2014-12-19T00:00:00\",\"2014-12-22T00:00:00\",\"2014-12-23T00:00:00\",\"2014-12-24T00:00:00\",\"2014-12-26T00:00:00\",\"2014-12-29T00:00:00\",\"2014-12-30T00:00:00\",\"2014-12-31T00:00:00\",\"2015-01-02T00:00:00\",\"2015-01-05T00:00:00\",\"2015-01-06T00:00:00\",\"2015-01-07T00:00:00\",\"2015-01-08T00:00:00\",\"2015-01-09T00:00:00\",\"2015-01-12T00:00:00\",\"2015-01-13T00:00:00\",\"2015-01-14T00:00:00\",\"2015-01-15T00:00:00\",\"2015-01-16T00:00:00\",\"2015-01-20T00:00:00\",\"2015-01-21T00:00:00\",\"2015-01-22T00:00:00\",\"2015-01-23T00:00:00\",\"2015-01-26T00:00:00\",\"2015-01-27T00:00:00\",\"2015-01-28T00:00:00\",\"2015-01-29T00:00:00\",\"2015-01-30T00:00:00\",\"2015-02-02T00:00:00\",\"2015-02-03T00:00:00\",\"2015-02-04T00:00:00\",\"2015-02-05T00:00:00\",\"2015-02-06T00:00:00\",\"2015-02-09T00:00:00\",\"2015-02-10T00:00:00\",\"2015-02-11T00:00:00\",\"2015-02-12T00:00:00\",\"2015-02-13T00:00:00\",\"2015-02-17T00:00:00\",\"2015-02-18T00:00:00\",\"2015-02-19T00:00:00\",\"2015-02-20T00:00:00\",\"2015-02-23T00:00:00\",\"2015-02-24T00:00:00\",\"2015-02-25T00:00:00\",\"2015-02-26T00:00:00\",\"2015-02-27T00:00:00\",\"2015-03-02T00:00:00\",\"2015-03-03T00:00:00\",\"2015-03-04T00:00:00\",\"2015-03-05T00:00:00\",\"2015-03-06T00:00:00\",\"2015-03-09T00:00:00\",\"2015-03-10T00:00:00\",\"2015-03-11T00:00:00\",\"2015-03-12T00:00:00\",\"2015-03-13T00:00:00\",\"2015-03-16T00:00:00\",\"2015-03-17T00:00:00\",\"2015-03-18T00:00:00\",\"2015-03-19T00:00:00\",\"2015-03-20T00:00:00\",\"2015-03-23T00:00:00\",\"2015-03-24T00:00:00\",\"2015-03-25T00:00:00\",\"2015-03-26T00:00:00\",\"2015-03-27T00:00:00\",\"2015-03-30T00:00:00\",\"2015-03-31T00:00:00\",\"2015-04-01T00:00:00\",\"2015-04-02T00:00:00\",\"2015-04-06T00:00:00\",\"2015-04-07T00:00:00\",\"2015-04-08T00:00:00\",\"2015-04-09T00:00:00\",\"2015-04-10T00:00:00\",\"2015-04-13T00:00:00\",\"2015-04-14T00:00:00\",\"2015-04-15T00:00:00\",\"2015-04-16T00:00:00\",\"2015-04-17T00:00:00\",\"2015-04-20T00:00:00\",\"2015-04-21T00:00:00\",\"2015-04-22T00:00:00\",\"2015-04-23T00:00:00\",\"2015-04-24T00:00:00\",\"2015-04-27T00:00:00\",\"2015-04-28T00:00:00\",\"2015-04-29T00:00:00\",\"2015-04-30T00:00:00\",\"2015-05-01T00:00:00\",\"2015-05-04T00:00:00\",\"2015-05-05T00:00:00\",\"2015-05-06T00:00:00\",\"2015-05-07T00:00:00\",\"2015-05-08T00:00:00\",\"2015-05-11T00:00:00\",\"2015-05-12T00:00:00\",\"2015-05-13T00:00:00\",\"2015-05-14T00:00:00\",\"2015-05-15T00:00:00\",\"2015-05-18T00:00:00\",\"2015-05-19T00:00:00\",\"2015-05-20T00:00:00\",\"2015-05-21T00:00:00\",\"2015-05-22T00:00:00\",\"2015-05-26T00:00:00\",\"2015-05-27T00:00:00\",\"2015-05-28T00:00:00\",\"2015-05-29T00:00:00\",\"2015-06-01T00:00:00\",\"2015-06-02T00:00:00\",\"2015-06-03T00:00:00\",\"2015-06-04T00:00:00\",\"2015-06-05T00:00:00\",\"2015-06-08T00:00:00\",\"2015-06-09T00:00:00\",\"2015-06-10T00:00:00\",\"2015-06-11T00:00:00\",\"2015-06-12T00:00:00\",\"2015-06-15T00:00:00\",\"2015-06-16T00:00:00\",\"2015-06-17T00:00:00\",\"2015-06-18T00:00:00\",\"2015-06-19T00:00:00\",\"2015-06-22T00:00:00\",\"2015-06-23T00:00:00\",\"2015-06-24T00:00:00\",\"2015-06-25T00:00:00\",\"2015-06-26T00:00:00\",\"2015-06-29T00:00:00\",\"2015-06-30T00:00:00\",\"2015-07-01T00:00:00\",\"2015-07-02T00:00:00\",\"2015-07-06T00:00:00\",\"2015-07-07T00:00:00\",\"2015-07-08T00:00:00\",\"2015-07-09T00:00:00\",\"2015-07-10T00:00:00\",\"2015-07-13T00:00:00\",\"2015-07-14T00:00:00\",\"2015-07-15T00:00:00\",\"2015-07-16T00:00:00\",\"2015-07-17T00:00:00\",\"2015-07-20T00:00:00\",\"2015-07-21T00:00:00\",\"2015-07-22T00:00:00\",\"2015-07-23T00:00:00\",\"2015-07-24T00:00:00\",\"2015-07-27T00:00:00\",\"2015-07-28T00:00:00\",\"2015-07-29T00:00:00\",\"2015-07-30T00:00:00\",\"2015-07-31T00:00:00\",\"2015-08-03T00:00:00\",\"2015-08-04T00:00:00\",\"2015-08-05T00:00:00\",\"2015-08-06T00:00:00\",\"2015-08-07T00:00:00\",\"2015-08-10T00:00:00\",\"2015-08-11T00:00:00\",\"2015-08-12T00:00:00\",\"2015-08-13T00:00:00\",\"2015-08-14T00:00:00\",\"2015-08-17T00:00:00\",\"2015-08-18T00:00:00\",\"2015-08-19T00:00:00\",\"2015-08-20T00:00:00\",\"2015-08-21T00:00:00\",\"2015-08-24T00:00:00\",\"2015-08-25T00:00:00\",\"2015-08-26T00:00:00\",\"2015-08-27T00:00:00\",\"2015-08-28T00:00:00\",\"2015-08-31T00:00:00\",\"2015-09-01T00:00:00\",\"2015-09-02T00:00:00\",\"2015-09-03T00:00:00\",\"2015-09-04T00:00:00\",\"2015-09-08T00:00:00\",\"2015-09-09T00:00:00\",\"2015-09-10T00:00:00\",\"2015-09-11T00:00:00\",\"2015-09-14T00:00:00\",\"2015-09-15T00:00:00\",\"2015-09-16T00:00:00\",\"2015-09-17T00:00:00\",\"2015-09-18T00:00:00\",\"2015-09-21T00:00:00\",\"2015-09-22T00:00:00\",\"2015-09-23T00:00:00\",\"2015-09-24T00:00:00\",\"2015-09-25T00:00:00\",\"2015-09-28T00:00:00\",\"2015-09-29T00:00:00\",\"2015-09-30T00:00:00\",\"2015-10-01T00:00:00\",\"2015-10-02T00:00:00\",\"2015-10-05T00:00:00\",\"2015-10-06T00:00:00\",\"2015-10-07T00:00:00\",\"2015-10-08T00:00:00\",\"2015-10-09T00:00:00\",\"2015-10-12T00:00:00\",\"2015-10-13T00:00:00\",\"2015-10-14T00:00:00\",\"2015-10-15T00:00:00\",\"2015-10-16T00:00:00\",\"2015-10-19T00:00:00\",\"2015-10-20T00:00:00\",\"2015-10-21T00:00:00\",\"2015-10-22T00:00:00\",\"2015-10-23T00:00:00\",\"2015-10-26T00:00:00\",\"2015-10-27T00:00:00\",\"2015-10-28T00:00:00\",\"2015-10-29T00:00:00\",\"2015-10-30T00:00:00\",\"2015-11-02T00:00:00\",\"2015-11-03T00:00:00\",\"2015-11-04T00:00:00\",\"2015-11-05T00:00:00\",\"2015-11-06T00:00:00\",\"2015-11-09T00:00:00\",\"2015-11-10T00:00:00\",\"2015-11-11T00:00:00\",\"2015-11-12T00:00:00\",\"2015-11-13T00:00:00\",\"2015-11-16T00:00:00\",\"2015-11-17T00:00:00\",\"2015-11-18T00:00:00\",\"2015-11-19T00:00:00\",\"2015-11-20T00:00:00\",\"2015-11-23T00:00:00\",\"2015-11-24T00:00:00\",\"2015-11-25T00:00:00\",\"2015-11-27T00:00:00\",\"2015-11-30T00:00:00\",\"2015-12-01T00:00:00\",\"2015-12-02T00:00:00\",\"2015-12-03T00:00:00\",\"2015-12-04T00:00:00\",\"2015-12-07T00:00:00\",\"2015-12-08T00:00:00\",\"2015-12-09T00:00:00\",\"2015-12-10T00:00:00\",\"2015-12-11T00:00:00\",\"2015-12-14T00:00:00\",\"2015-12-15T00:00:00\",\"2015-12-16T00:00:00\",\"2015-12-17T00:00:00\",\"2015-12-18T00:00:00\",\"2015-12-21T00:00:00\",\"2015-12-22T00:00:00\",\"2015-12-23T00:00:00\",\"2015-12-24T00:00:00\",\"2015-12-28T00:00:00\",\"2015-12-29T00:00:00\",\"2015-12-30T00:00:00\",\"2015-12-31T00:00:00\",\"2016-01-04T00:00:00\",\"2016-01-05T00:00:00\",\"2016-01-06T00:00:00\",\"2016-01-07T00:00:00\",\"2016-01-08T00:00:00\",\"2016-01-11T00:00:00\",\"2016-01-12T00:00:00\",\"2016-01-13T00:00:00\",\"2016-01-14T00:00:00\",\"2016-01-15T00:00:00\",\"2016-01-19T00:00:00\",\"2016-01-20T00:00:00\",\"2016-01-21T00:00:00\",\"2016-01-22T00:00:00\",\"2016-01-25T00:00:00\",\"2016-01-26T00:00:00\",\"2016-01-27T00:00:00\",\"2016-01-28T00:00:00\",\"2016-01-29T00:00:00\",\"2016-02-01T00:00:00\",\"2016-02-02T00:00:00\",\"2016-02-03T00:00:00\",\"2016-02-04T00:00:00\",\"2016-02-05T00:00:00\",\"2016-02-08T00:00:00\",\"2016-02-09T00:00:00\",\"2016-02-10T00:00:00\",\"2016-02-11T00:00:00\",\"2016-02-12T00:00:00\",\"2016-02-16T00:00:00\",\"2016-02-17T00:00:00\",\"2016-02-18T00:00:00\",\"2016-02-19T00:00:00\",\"2016-02-22T00:00:00\",\"2016-02-23T00:00:00\",\"2016-02-24T00:00:00\",\"2016-02-25T00:00:00\",\"2016-02-26T00:00:00\",\"2016-02-29T00:00:00\",\"2016-03-01T00:00:00\",\"2016-03-02T00:00:00\",\"2016-03-03T00:00:00\",\"2016-03-04T00:00:00\",\"2016-03-07T00:00:00\",\"2016-03-08T00:00:00\",\"2016-03-09T00:00:00\",\"2016-03-10T00:00:00\",\"2016-03-11T00:00:00\",\"2016-03-14T00:00:00\",\"2016-03-15T00:00:00\",\"2016-03-16T00:00:00\",\"2016-03-17T00:00:00\",\"2016-03-18T00:00:00\",\"2016-03-21T00:00:00\",\"2016-03-22T00:00:00\",\"2016-03-23T00:00:00\",\"2016-03-24T00:00:00\",\"2016-03-28T00:00:00\",\"2016-03-29T00:00:00\",\"2016-03-30T00:00:00\",\"2016-03-31T00:00:00\",\"2016-04-01T00:00:00\",\"2016-04-04T00:00:00\",\"2016-04-05T00:00:00\",\"2016-04-06T00:00:00\",\"2016-04-07T00:00:00\",\"2016-04-08T00:00:00\",\"2016-04-11T00:00:00\",\"2016-04-12T00:00:00\",\"2016-04-13T00:00:00\",\"2016-04-14T00:00:00\",\"2016-04-15T00:00:00\",\"2016-04-18T00:00:00\",\"2016-04-19T00:00:00\",\"2016-04-20T00:00:00\",\"2016-04-21T00:00:00\",\"2016-04-22T00:00:00\",\"2016-04-25T00:00:00\",\"2016-04-26T00:00:00\",\"2016-04-27T00:00:00\",\"2016-04-28T00:00:00\",\"2016-04-29T00:00:00\",\"2016-05-02T00:00:00\",\"2016-05-03T00:00:00\",\"2016-05-04T00:00:00\",\"2016-05-05T00:00:00\",\"2016-05-06T00:00:00\",\"2016-05-09T00:00:00\",\"2016-05-10T00:00:00\",\"2016-05-11T00:00:00\",\"2016-05-12T00:00:00\",\"2016-05-13T00:00:00\",\"2016-05-16T00:00:00\",\"2016-05-17T00:00:00\",\"2016-05-18T00:00:00\",\"2016-05-19T00:00:00\",\"2016-05-20T00:00:00\",\"2016-05-23T00:00:00\",\"2016-05-24T00:00:00\",\"2016-05-25T00:00:00\",\"2016-05-26T00:00:00\",\"2016-05-27T00:00:00\",\"2016-05-31T00:00:00\",\"2016-06-01T00:00:00\",\"2016-06-02T00:00:00\",\"2016-06-03T00:00:00\",\"2016-06-06T00:00:00\",\"2016-06-07T00:00:00\",\"2016-06-08T00:00:00\",\"2016-06-09T00:00:00\",\"2016-06-10T00:00:00\",\"2016-06-13T00:00:00\",\"2016-06-14T00:00:00\",\"2016-06-15T00:00:00\",\"2016-06-16T00:00:00\",\"2016-06-17T00:00:00\",\"2016-06-20T00:00:00\",\"2016-06-21T00:00:00\",\"2016-06-22T00:00:00\",\"2016-06-23T00:00:00\",\"2016-06-24T00:00:00\",\"2016-06-27T00:00:00\",\"2016-06-28T00:00:00\",\"2016-06-29T00:00:00\",\"2016-06-30T00:00:00\",\"2016-07-01T00:00:00\",\"2016-07-05T00:00:00\",\"2016-07-06T00:00:00\",\"2016-07-07T00:00:00\",\"2016-07-08T00:00:00\",\"2016-07-11T00:00:00\",\"2016-07-12T00:00:00\",\"2016-07-13T00:00:00\",\"2016-07-14T00:00:00\",\"2016-07-15T00:00:00\",\"2016-07-18T00:00:00\",\"2016-07-19T00:00:00\",\"2016-07-20T00:00:00\",\"2016-07-21T00:00:00\",\"2016-07-22T00:00:00\",\"2016-07-25T00:00:00\",\"2016-07-26T00:00:00\",\"2016-07-27T00:00:00\",\"2016-07-28T00:00:00\",\"2016-07-29T00:00:00\",\"2016-08-01T00:00:00\",\"2016-08-02T00:00:00\",\"2016-08-03T00:00:00\",\"2016-08-04T00:00:00\",\"2016-08-05T00:00:00\",\"2016-08-08T00:00:00\",\"2016-08-09T00:00:00\",\"2016-08-10T00:00:00\",\"2016-08-11T00:00:00\",\"2016-08-12T00:00:00\",\"2016-08-15T00:00:00\",\"2016-08-16T00:00:00\",\"2016-08-17T00:00:00\",\"2016-08-18T00:00:00\",\"2016-08-19T00:00:00\",\"2016-08-22T00:00:00\",\"2016-08-23T00:00:00\",\"2016-08-24T00:00:00\",\"2016-08-25T00:00:00\",\"2016-08-26T00:00:00\",\"2016-08-29T00:00:00\",\"2016-08-30T00:00:00\",\"2016-08-31T00:00:00\",\"2016-09-01T00:00:00\",\"2016-09-02T00:00:00\",\"2016-09-06T00:00:00\",\"2016-09-07T00:00:00\",\"2016-09-08T00:00:00\",\"2016-09-09T00:00:00\",\"2016-09-12T00:00:00\",\"2016-09-13T00:00:00\",\"2016-09-14T00:00:00\",\"2016-09-15T00:00:00\",\"2016-09-16T00:00:00\",\"2016-09-19T00:00:00\",\"2016-09-20T00:00:00\",\"2016-09-21T00:00:00\",\"2016-09-22T00:00:00\",\"2016-09-23T00:00:00\",\"2016-09-26T00:00:00\",\"2016-09-27T00:00:00\",\"2016-09-28T00:00:00\",\"2016-09-29T00:00:00\",\"2016-09-30T00:00:00\",\"2016-10-03T00:00:00\",\"2016-10-04T00:00:00\",\"2016-10-05T00:00:00\",\"2016-10-06T00:00:00\",\"2016-10-07T00:00:00\",\"2016-10-10T00:00:00\",\"2016-10-11T00:00:00\",\"2016-10-12T00:00:00\",\"2016-10-13T00:00:00\",\"2016-10-14T00:00:00\",\"2016-10-17T00:00:00\",\"2016-10-18T00:00:00\",\"2016-10-19T00:00:00\",\"2016-10-20T00:00:00\",\"2016-10-21T00:00:00\",\"2016-10-24T00:00:00\",\"2016-10-25T00:00:00\",\"2016-10-26T00:00:00\",\"2016-10-27T00:00:00\",\"2016-10-28T00:00:00\",\"2016-10-31T00:00:00\",\"2016-11-01T00:00:00\",\"2016-11-02T00:00:00\",\"2016-11-03T00:00:00\",\"2016-11-04T00:00:00\",\"2016-11-07T00:00:00\",\"2016-11-08T00:00:00\",\"2016-11-09T00:00:00\",\"2016-11-10T00:00:00\",\"2016-11-11T00:00:00\",\"2016-11-14T00:00:00\",\"2016-11-15T00:00:00\",\"2016-11-16T00:00:00\",\"2016-11-17T00:00:00\",\"2016-11-18T00:00:00\",\"2016-11-21T00:00:00\",\"2016-11-22T00:00:00\",\"2016-11-23T00:00:00\",\"2016-11-25T00:00:00\",\"2016-11-28T00:00:00\",\"2016-11-29T00:00:00\",\"2016-11-30T00:00:00\",\"2016-12-01T00:00:00\",\"2016-12-02T00:00:00\",\"2016-12-05T00:00:00\",\"2016-12-06T00:00:00\",\"2016-12-07T00:00:00\",\"2016-12-08T00:00:00\",\"2016-12-09T00:00:00\",\"2016-12-12T00:00:00\",\"2016-12-13T00:00:00\",\"2016-12-14T00:00:00\",\"2016-12-15T00:00:00\",\"2016-12-16T00:00:00\",\"2016-12-19T00:00:00\",\"2016-12-20T00:00:00\",\"2016-12-21T00:00:00\",\"2016-12-22T00:00:00\",\"2016-12-23T00:00:00\",\"2016-12-27T00:00:00\",\"2016-12-28T00:00:00\",\"2016-12-29T00:00:00\",\"2016-12-30T00:00:00\",\"2017-01-03T00:00:00\",\"2017-01-04T00:00:00\",\"2017-01-05T00:00:00\",\"2017-01-06T00:00:00\",\"2017-01-09T00:00:00\",\"2017-01-10T00:00:00\",\"2017-01-11T00:00:00\",\"2017-01-12T00:00:00\",\"2017-01-13T00:00:00\",\"2017-01-17T00:00:00\",\"2017-01-18T00:00:00\",\"2017-01-19T00:00:00\",\"2017-01-20T00:00:00\",\"2017-01-23T00:00:00\",\"2017-01-24T00:00:00\",\"2017-01-25T00:00:00\",\"2017-01-26T00:00:00\",\"2017-01-27T00:00:00\",\"2017-01-30T00:00:00\",\"2017-01-31T00:00:00\",\"2017-02-01T00:00:00\",\"2017-02-02T00:00:00\",\"2017-02-03T00:00:00\",\"2017-02-06T00:00:00\",\"2017-02-07T00:00:00\",\"2017-02-08T00:00:00\",\"2017-02-09T00:00:00\",\"2017-02-10T00:00:00\",\"2017-02-13T00:00:00\",\"2017-02-14T00:00:00\",\"2017-02-15T00:00:00\",\"2017-02-16T00:00:00\",\"2017-02-17T00:00:00\",\"2017-02-21T00:00:00\",\"2017-02-22T00:00:00\",\"2017-02-23T00:00:00\",\"2017-02-24T00:00:00\",\"2017-02-27T00:00:00\",\"2017-02-28T00:00:00\",\"2017-03-01T00:00:00\",\"2017-03-02T00:00:00\",\"2017-03-03T00:00:00\",\"2017-03-06T00:00:00\",\"2017-03-07T00:00:00\",\"2017-03-08T00:00:00\",\"2017-03-09T00:00:00\",\"2017-03-10T00:00:00\",\"2017-03-13T00:00:00\",\"2017-03-14T00:00:00\",\"2017-03-15T00:00:00\",\"2017-03-16T00:00:00\",\"2017-03-17T00:00:00\"],\"y\":[23.889999,23.83,21.959999,19.200001,16.110001,15.8,17.459999,17.4,17.049999,18.139999,19.84,19.889999,20.639999,21.91,20.299999,20.219999,21.0,21.290001,20.950001,20.549999,20.719999,20.35,19.940001,20.92,21.950001,21.26,20.450001,19.59,19.6,19.030001,17.9,17.6,18.32,18.780001,19.15,18.77,18.790001,19.1,20.129999,19.200001,19.9,19.75,19.700001,19.870001,19.48,20.450001,21.059999,21.049999,20.540001,20.9,20.709999,20.17,20.719999,21.120001,21.98,20.940001,20.23,21.059999,20.77,19.870001,19.559999,20.1,20.530001,21.4,21.98,20.41,20.6,20.99,21.120001,20.459999,20.43,20.43,20.24,20.24,20.540001,20.75,20.540001,20.23,20.049999,20.65,20.75,20.719999,20.85,21.360001,21.0,21.190001,21.84,21.41,21.25,21.77,24.9,24.440001,24.98,24.629999,29.360001,28.040001,29.84,30.799999,29.67,29.49,29.889999,30.99,33.400002,34.57,35.470001,35.32,34.330002,35.330002,34.349998,32.349998,31.49,30.309999,31.559999,32.369999,32.049999,31.52,30.549999,28.530001,29.6,30.809999,31.360001,31.700001,32.259998,32.630001,30.09,25.549999,26.41,27.73,26.5,26.629999,26.620001,26.67,26.83,27.879999,28.24,28.450001,26.959999,26.959999,26.219999,25.75,25.639999,24.030001,22.620001,23.040001,24.49,24.68,24.75,24.92,24.01,24.1,23.91,23.940001,23.629999,23.459999,23.07,24.49,23.209999,23.219999,23.25,23.08,22.84,24.73,23.6,23.18,21.870001,21.83,22.530001,23.610001,23.889999,23.940001,24.02,24.360001,24.950001,24.940001,24.66,24.719999,24.01,24.07,23.25,22.950001,22.82,22.809999,22.959999,22.73,22.190001,22.209999,22.33,22.75,23.25,23.92,23.709999,27.75,26.66,25.83,26.700001,26.49,27.24,26.49,25.27,24.65,24.93,25.139999,25.58,25.030001,25.16,25.75,26.74,26.389999,26.93,27.08,27.66,27.6,27.450001,26.870001,26.690001,26.440001,27.120001,27.91,28.33,27.07,27.67,27.549999,26.6,25.959999,26.35,28.200001,27.969999,26.82,26.719999,28.98,29.48,29.549999,30.139999,28.52,28.76,30.129999,28.700001,28.370001,27.120001,27.620001,27.860001,28.43,28.6,27.32,26.5,26.5,26.01,27.530001,27.209999,27.709999,27.57,27.459999,28.110001,28.290001,29.129999,29.02,29.139999,28.959999,29.73,28.809999,28.35,28.17,28.639999,27.610001,27.58,27.23,27.889999,28.690001,28.700001,29.290001,28.49,28.0,27.639999,28.17,28.17,28.77,27.34,27.200001,24.75,24.24,23.639999,25.059999,23.82,25.299999,26.309999,26.23,26.1,25.83,24.26,22.299999,21.950001,22.959999,23.870001,23.110001,23.73,24.709999,24.629999,24.74,24.0,23.07,22.940001,23.84,23.610001,22.969999,22.879999,24.08,24.34,24.82,25.799999,25.77,26.01,25.85,25.629999,26.379999,25.52,26.190001,24.59,24.120001,24.389999,23.73,23.66,25.370001,26.959999,26.99,27.879999,27.610001,27.799999,27.940001,28.049999,27.42,28.34,27.57,27.34,28.030001,28.549999,28.25,27.98,28.76,29.870001,29.370001,28.879999,28.709999,32.459999,32.310001,31.27,31.84,30.879999,31.33,33.639999,33.220001,33.93,34.939999,33.68,32.599998,31.76,32.07,31.450001,31.66,32.560001,31.75,32.740002,32.599998,33.299999,34.419998,34.869999,34.189999,30.889999,31.040001,30.41,29.450001,28.530001,28.620001,28.0,27.75,27.9,27.57,27.77,27.9,28.57,28.51,28.73,28.559999,28.08,27.709999,27.120001,26.91,27.25,27.620001,28.23,28.25,22.790001,26.6,26.809999,26.76,26.6,26.77,27.42,27.969999,28.940001,29.33,29.57,29.07,29.58,30.25,31.15,31.799999,31.6,31.93,32.580002,31.1,31.49,33.169998,33.599998,34.18,34.970001,34.5,34.220001,34.529999,33.75,33.619999,33.810001,33.41,34.41,34.040001,33.77,33.110001,33.119999,33.07,34.740002,36.009998,36.09,35.290001,35.0,35.32,34.98,34.959999,35.150002,34.400002,34.080002,37.400002,37.939999,37.849998,37.330002,37.240002,36.580002,38.009998,35.0,34.48,33.150002,32.459999,33.09,33.439999,33.59,32.25,32.240002,32.66,33.16,33.16,31.940001,31.82,32.91,33.490002,33.34,33.130001,33.779999,33.939999,32.459999,31.83,32.470001,30.190001,30.059999,32.959999,32.25,30.059999,29.43,29.18,28.57,27.559999,28.77,30.799999,31.02,30.280001,29.809999,31.690001,30.41,29.5,28.15,27.879999,27.91,29.219999,28.93,30.08,29.120001,29.66,29.77,29.389999,29.91,31.84,32.09,33.779999,32.189999,33.790001,33.110001,31.610001,31.959999,31.41,31.290001,30.4,30.66,31.23,30.99,31.49,31.27,31.51,32.700001,34.25,35.959999,33.349998,32.150002,32.27,31.790001,30.66,29.84,28.950001,28.129999,29.51,27.35,27.42,26.25,26.1,27.27,28.27,30.25,29.09,29.41,29.940001,31.17,29.42,29.4,30.299999,30.01,29.51,29.110001,29.950001,30.73,29.5,28.32,28.690001,28.41,28.41,28.52,28.139999,27.940001,28.549999,29.35,27.370001,27.799999,28.280001,29.48,30.389999,32.540001,31.34,31.049999,30.9,30.02,30.66,27.66,27.540001,28.49,29.280001,29.16,29.799999,29.299999,29.4,28.889999,29.25,28.370001,28.4,28.32,27.639999,27.33,28.059999,28.82,28.040001,27.74,27.85,28.389999,27.42,27.52,27.379999,28.129999,29.25,28.92,31.5,31.15,31.540001,31.309999,30.32,31.07,31.610001,31.379999,30.82,31.84,32.919998,33.0,32.470001,32.130001,32.27,32.150002,33.23,33.689999,33.82,34.619999,33.900002,33.709999,33.900002,34.169998,34.57,35.279999,35.259998,33.610001,33.810001,34.400002,34.59,34.610001,34.43,34.0,34.279999,33.59,33.689999,33.220001,33.869999,35.360001,34.77,34.400002,34.34,33.68,33.639999,33.529999,32.91,33.259998,33.900002,34.099998,34.380001,34.52,35.189999,36.0,36.990002,36.98,38.029999,37.950001,37.52,37.509998,38.299999,37.740002,38.130001,39.169998,39.48,39.240002,38.419998,37.889999,38.450001,38.27,37.040001,39.279999,38.540001,35.16,36.110001,34.380001,34.43,35.099998,34.830002,34.650002,35.580002,36.650002,37.689999,38.23,38.470001,39.099998,39.119999,38.98,36.849998,35.290001,35.150002,35.080002,35.950001,36.009998,36.619999,37.529999,37.860001,38.16,37.889999,43.93,44.34,41.099998,42.009998,41.369999,41.830002,40.5,41.860001,43.59,43.75,43.299999,45.59,45.450001,46.970001,47.830002,50.189999,51.009998,50.43,52.0,51.200001,54.939999,53.990002,53.279999,54.110001,54.549999,59.5,55.509998,55.790001,69.400002,76.760002,87.800003,83.239998,84.839996,92.25,91.5,89.940002,87.589996,87.239998,92.730003,97.080002,110.330002,104.629997,104.949997,97.760002,92.589996,94.839996,95.370003,97.349998,102.040001,100.050003,94.470001,97.730003,98.18,100.300003,102.199997,103.389999,104.68,100.650002,99.550003,101.489998,102.400002,105.720001,109.25,107.360001,117.18,117.82,115.239998,120.089996,121.610001,123.449997,122.269997,125.610001,129.899994,127.260002,109.050003,120.25,119.029999,119.68,122.43,122.739998,121.699997,124.07,129.389999,134.619995,131.740005,134.279999,135.550003,138.0,144.679993,142.149994,134.229996,153.479996,153.0,147.380005,145.429993,139.360001,139.669998,142.0,144.899994,149.580002,147.860001,157.100006,161.839996,164.220001,167.009995,166.449997,166.059998,169.0,168.940002,170.619995,169.929993,166.970001,160.699997,166.369995,163.520004,164.929993,165.539993,166.580002,166.229996,166.220001,177.919998,183.389999,181.110001,182.330002,185.240005,188.639999,190.899994,193.369995,193.0,180.949997,173.309998,180.979996,183.070007,174.729996,168.779999,172.929993,178.699997,179.720001,183.940002,183.559998,182.800003,183.399994,172.600006,171.539993,164.5,173.149994,169.660004,162.860001,164.470001,159.220001,159.940002,162.169998,175.199997,176.809998,151.160004,139.770004,137.949997,144.699997,137.800003,138.699997,137.600006,135.449997,121.580002,126.089996,121.110001,122.099998,121.379997,120.839996,120.5,126.940002,127.279999,124.169998,144.699997,138.949997,140.479996,137.360001,141.600006,142.190002,139.649994,147.470001,147.649994,147.940002,152.460007,147.979996,140.720001,143.240005,143.550003,151.410004,155.5,151.119995,152.440002,150.429993,150.100006,149.559998,147.0,149.360001,151.279999,147.529999,145.720001,139.339996,161.270004,164.130005,170.970001,170.009995,176.679993,178.559998,181.5,174.600006,169.619995,178.380005,175.229996,182.839996,181.410004,177.110001,178.729996,174.419998,178.380005,186.529999,196.559998,196.619995,195.320007,199.630005,198.229996,203.699997,193.639999,209.970001,209.600006,217.649994,248.0,253.0,252.539993,244.809998,250.559998,254.839996,252.660004,252.940002,246.210007,238.839996,234.410004,241.490005,237.789993,230.970001,233.979996,240.039993,235.839996,234.910004,228.889999,220.169998,220.440002,212.960007,207.320007,212.369995,208.449997,216.970001,230.289993,225.399994,212.229996,207.520004,215.460007,216.929993,204.190002,203.779999,198.089996,193.910004,199.110001,198.119995,204.380005,218.639999,207.990005,207.860001,199.850006,198.509995,206.919998,207.889999,207.729996,210.910004,216.610001,207.279999,201.350006,178.589996,182.259995,184.669998,190.160004,190.619995,188.589996,191.559998,196.089996,195.300003,199.449997,204.880005,207.300003,211.559998,210.240005,210.240005,207.770004,204.699997,204.940002,203.990005,206.899994,208.169998,205.309998,202.300003,204.470001,203.520004,206.419998,224.610001,231.669998,227.119995,227.789993,229.589996,237.220001,232.5,236.889999,235.600006,239.059998,240.059998,239.720001,229.429993,229.25,222.660004,219.070007,223.059998,219.460007,218.130005,226.699997,219.580002,217.160004,215.399994,220.020004,220.539993,219.580002,222.490005,223.539993,223.570007,224.820007,225.009995,228.919998,223.300003,233.270004,238.520004,238.490005,248.929993,252.389999,248.130005,259.320007,259.959991,260.309998,261.380005,262.01001,259.940002,256.76001,255.710007,254.339996,256.779999,262.549988,261.73999,263.25,263.859985,269.700012,284.119995,281.190002,286.040009,277.390015,282.109985,278.480011,281.100006,280.309998,279.200012,253.860001,260.73999,261.380005,263.820007,259.320007,250.029999,250.410004,252.139999,246.949997,246.600006,245.259995,242.679993,240.240005,251.419998,255.210007,260.619995,259.570007,259.279999,257.01001,236.910004,224.589996,227.059998,229.699997,226.350006,227.479996,230.470001,235.339996,231.100006,235.289993,235.240005,221.669998,242.770004,238.100006,238.660004,241.699997,242.589996,238.929993,230.970001,241.220001,240.199997,241.929993,251.080002,249.100006,251.699997,258.679993,253.979996,257.700012,247.740005,248.710007,242.779999,246.720001,248.089996,248.440002,244.520004,231.639999,231.429993,229.300003,228.279999,223.710007,214.360001,216.889999,209.839996,208.880005,207.0,204.039993,197.809998,205.820007,218.259995,219.289993,222.600006,220.970001,222.259995,227.820007,225.710007,222.229996,222.410004,219.309998,210.089996,211.279999,210.949997,210.619995,206.660004,202.210007,204.25,192.690002,191.869995,193.070007,191.929993,196.570007,201.619995,201.289993,206.550003,205.979996,199.369995,205.199997,203.600006,210.940002,218.360001,218.550003,220.990005,217.360001,217.479996,216.289993,212.800003,202.880005,203.770004,204.350006,204.460007,211.710007,217.110001,207.339996,204.110001,203.759995,207.190002,203.339996,197.330002,199.559998,202.440002,200.630005,193.880005,190.880005,190.320007,193.740005,191.070007,188.679993,195.699997,194.729996,200.710007,195.649994,198.080002,199.630005,201.720001,194.300003,190.410004,185.0,190.570007,188.770004,187.589996,191.0,203.100006,203.25,207.669998,210.089996,210.899994,209.779999,207.460007,207.830002,206.699997,206.789993,205.270004,209.410004,219.440002,218.600006,218.429993,231.550003,230.479996,232.449997,226.050003,226.029999,230.509995,232.949997,230.429993,236.800003,236.610001,239.490005,244.740005,243.179993,244.100006,248.839996,248.75,247.139999,244.350006,245.619995,247.729996,247.460007,247.429993,251.449997,250.800003,249.449997,248.350006,248.990005,245.919998,249.139999,256.290009,256.0,250.699997,251.410004,250.690002,250.380005,253.119995,260.410004,261.890015,262.51001,259.790009,267.670013,265.170013,268.790009,267.089996,262.019989,268.26001,269.149994,280.019989,279.720001,267.880005,254.960007,257.920013,259.149994,262.160004,265.649994,263.140015,266.679993,274.660004,282.26001,266.769989,267.869995,267.200012,265.410004,253.009995,264.820007,263.820007,266.790009,266.149994,259.98999,266.279999,270.130005,246.130005,242.509995,241.139999,237.369995,238.169998,242.509995,243.149994,254.990005,260.720001,255.25,242.179993,230.770004,218.869995,220.029999,224.839996,242.990005,248.479996,249.059998,238.630005,247.690002,245.570007,241.929993,248.169998,248.910004,248.479996,250.240005,253.190002,253.570007,262.25,262.070007,260.619995,264.200012,260.940002,261.059998,263.119995,256.910004,248.429993,246.649994,248.399994,239.880005,247.570007,246.149994,241.460007,231.960007,226.720001,220.690002,215.580002,219.25,216.880005,221.309998,227.009995,228.100006,213.029999,210.089996,211.720001,209.089996,215.259995,210.350006,212.960007,211.630005,206.929993,213.789993,208.350006,231.630005,231.770004,232.360001,225.330002,216.5,219.080002,212.940002,207.190002,214.309998,214.0,221.070007,221.800003,220.009995,217.75,218.25,229.639999,231.610001,230.259995,237.190002,231.990005,232.710007,230.380005,231.130005,226.720001,224.520004,227.070007,217.020004,218.580002,221.089996,234.509995,233.389999,230.460007,232.559998,229.949997,229.699997,230.570007,228.949997,237.190002,238.089996,240.009995,223.410004,223.429993,219.039993,215.649994,211.0,207.850006,209.970001,200.309998,206.179993,204.990005,204.720001,198.699997,199.970001,202.550003,196.380005,193.559998,188.070007,189.699997,191.199997,196.940002,182.779999,173.479996,175.330002,162.600006,147.990005,148.25,143.669998,150.470001,151.039993,155.169998,168.679993,166.770004,166.580002,177.740005,177.210007,179.0,187.429993,190.339996,191.929993,186.350006,188.339996,195.740005,201.039993,205.289993,202.600006,208.720001,205.179993,207.5,215.149994,218.339996,221.929993,226.380005,232.740005,238.320007,234.240005,222.580002,227.75,230.259995,230.130005,226.889999,229.770004,237.589996,246.990005,255.470001,265.420013,257.200012,250.070007,249.919998,247.820007,254.529999,251.860001,254.509995,253.880005,247.369995,249.970001,248.289993,253.75,251.820007,253.740005,251.470001,247.710007,240.759995,241.800003,232.320007,222.559998,211.529999,214.929993,208.919998,208.690002,208.960007,207.279999,207.610001,208.289993,204.660004,211.169998,215.210007,220.279999,216.220001,217.910004,219.580002,225.119995,223.039993,223.229996,219.559998,218.960007,218.990005,220.679993,232.339996,235.520004,229.360001,218.789993,217.869995,214.960007,217.699997,217.929993,215.470001,219.699997,219.610001,196.660004,196.399994,193.149994,198.550003,201.789993,210.190002,212.279999,216.5,213.979996,214.440002,215.940002,216.779999,224.779999,224.649994,222.529999,221.529999,220.399994,226.25,225.259995,228.360001,220.5,222.270004,230.009995,229.509995,228.490005,230.610001,234.789993,230.009995,227.199997,225.789993,230.610001,230.029999,226.160004,229.080002,225.649994,224.910004,225.610001,225.589996,223.610001,223.240005,223.509995,225.0,222.929993,224.839996,222.619995,220.960007,219.990005,215.199997,211.339996,212.009995,200.770004,197.779999,202.830002,201.710007,197.360001,194.470001,198.300003,196.050003,196.410004,200.419998,205.399994,206.339996,204.639999,205.220001,206.429993,207.449997,208.990005,205.809998,206.270004,200.699997,204.029999,213.699997,211.410004,208.460007,201.0,196.610001,200.949997,200.100006,201.509995,200.240005,196.509995,193.960007,199.100006,203.559998,199.100006,200.089996,202.759995,202.339996,202.240005,204.009995,199.970001,197.729996,190.789993,188.020004,187.419998,190.559998,193.210007,194.940002,190.059998,185.350006,188.559998,181.449997,183.770004,183.929993,188.660004,185.020004,184.520004,191.169998,193.139999,196.649994,196.119995,189.570007,189.399994,181.880005,181.470001,186.800003,185.850006,193.149994,192.289993,192.179993,192.429993,198.149994,198.690002,197.580002,202.490005,202.729996,208.789993,207.699997,208.449997,213.339996,219.529999,219.740005,214.679993,213.690002,216.990005,226.990005,226.75,229.009995,231.279999,229.869995,229.729996,229.589996,237.75,235.580002,238.360001,243.759995,244.729996,248.919998,254.610001,254.470001,252.509995,252.949997,250.630005,251.929993,249.240005,251.550003,251.330002,257.769989,257.480011,262.079987,269.200012,269.230011,280.600006,280.980011,279.76001,268.950012,272.230011,277.390015,273.51001,255.990005,257.0,246.229996,249.990005,250.020004,250.479996,251.570007,251.210007,248.589996,246.869995,244.899994,243.690002,246.169998,258.0,255.729996,262.049988,261.5],\"type\":\"scatter\"}],                        {\"template\":{\"data\":{\"barpolar\":[{\"marker\":{\"line\":{\"color\":\"#E5ECF6\",\"width\":0.5},\"pattern\":{\"fillmode\":\"overlay\",\"size\":10,\"solidity\":0.2}},\"type\":\"barpolar\"}],\"bar\":[{\"error_x\":{\"color\":\"#2a3f5f\"},\"error_y\":{\"color\":\"#2a3f5f\"},\"marker\":{\"line\":{\"color\":\"#E5ECF6\",\"width\":0.5},\"pattern\":{\"fillmode\":\"overlay\",\"size\":10,\"solidity\":0.2}},\"type\":\"bar\"}],\"carpet\":[{\"aaxis\":{\"endlinecolor\":\"#2a3f5f\",\"gridcolor\":\"white\",\"linecolor\":\"white\",\"minorgridcolor\":\"white\",\"startlinecolor\":\"#2a3f5f\"},\"baxis\":{\"endlinecolor\":\"#2a3f5f\",\"gridcolor\":\"white\",\"linecolor\":\"white\",\"minorgridcolor\":\"white\",\"startlinecolor\":\"#2a3f5f\"},\"type\":\"carpet\"}],\"choropleth\":[{\"colorbar\":{\"outlinewidth\":0,\"ticks\":\"\"},\"type\":\"choropleth\"}],\"contourcarpet\":[{\"colorbar\":{\"outlinewidth\":0,\"ticks\":\"\"},\"type\":\"contourcarpet\"}],\"contour\":[{\"colorbar\":{\"outlinewidth\":0,\"ticks\":\"\"},\"colorscale\":[[0.0,\"#0d0887\"],[0.1111111111111111,\"#46039f\"],[0.2222222222222222,\"#7201a8\"],[0.3333333333333333,\"#9c179e\"],[0.4444444444444444,\"#bd3786\"],[0.5555555555555556,\"#d8576b\"],[0.6666666666666666,\"#ed7953\"],[0.7777777777777778,\"#fb9f3a\"],[0.8888888888888888,\"#fdca26\"],[1.0,\"#f0f921\"]],\"type\":\"contour\"}],\"heatmapgl\":[{\"colorbar\":{\"outlinewidth\":0,\"ticks\":\"\"},\"colorscale\":[[0.0,\"#0d0887\"],[0.1111111111111111,\"#46039f\"],[0.2222222222222222,\"#7201a8\"],[0.3333333333333333,\"#9c179e\"],[0.4444444444444444,\"#bd3786\"],[0.5555555555555556,\"#d8576b\"],[0.6666666666666666,\"#ed7953\"],[0.7777777777777778,\"#fb9f3a\"],[0.8888888888888888,\"#fdca26\"],[1.0,\"#f0f921\"]],\"type\":\"heatmapgl\"}],\"heatmap\":[{\"colorbar\":{\"outlinewidth\":0,\"ticks\":\"\"},\"colorscale\":[[0.0,\"#0d0887\"],[0.1111111111111111,\"#46039f\"],[0.2222222222222222,\"#7201a8\"],[0.3333333333333333,\"#9c179e\"],[0.4444444444444444,\"#bd3786\"],[0.5555555555555556,\"#d8576b\"],[0.6666666666666666,\"#ed7953\"],[0.7777777777777778,\"#fb9f3a\"],[0.8888888888888888,\"#fdca26\"],[1.0,\"#f0f921\"]],\"type\":\"heatmap\"}],\"histogram2dcontour\":[{\"colorbar\":{\"outlinewidth\":0,\"ticks\":\"\"},\"colorscale\":[[0.0,\"#0d0887\"],[0.1111111111111111,\"#46039f\"],[0.2222222222222222,\"#7201a8\"],[0.3333333333333333,\"#9c179e\"],[0.4444444444444444,\"#bd3786\"],[0.5555555555555556,\"#d8576b\"],[0.6666666666666666,\"#ed7953\"],[0.7777777777777778,\"#fb9f3a\"],[0.8888888888888888,\"#fdca26\"],[1.0,\"#f0f921\"]],\"type\":\"histogram2dcontour\"}],\"histogram2d\":[{\"colorbar\":{\"outlinewidth\":0,\"ticks\":\"\"},\"colorscale\":[[0.0,\"#0d0887\"],[0.1111111111111111,\"#46039f\"],[0.2222222222222222,\"#7201a8\"],[0.3333333333333333,\"#9c179e\"],[0.4444444444444444,\"#bd3786\"],[0.5555555555555556,\"#d8576b\"],[0.6666666666666666,\"#ed7953\"],[0.7777777777777778,\"#fb9f3a\"],[0.8888888888888888,\"#fdca26\"],[1.0,\"#f0f921\"]],\"type\":\"histogram2d\"}],\"histogram\":[{\"marker\":{\"pattern\":{\"fillmode\":\"overlay\",\"size\":10,\"solidity\":0.2}},\"type\":\"histogram\"}],\"mesh3d\":[{\"colorbar\":{\"outlinewidth\":0,\"ticks\":\"\"},\"type\":\"mesh3d\"}],\"parcoords\":[{\"line\":{\"colorbar\":{\"outlinewidth\":0,\"ticks\":\"\"}},\"type\":\"parcoords\"}],\"pie\":[{\"automargin\":true,\"type\":\"pie\"}],\"scatter3d\":[{\"line\":{\"colorbar\":{\"outlinewidth\":0,\"ticks\":\"\"}},\"marker\":{\"colorbar\":{\"outlinewidth\":0,\"ticks\":\"\"}},\"type\":\"scatter3d\"}],\"scattercarpet\":[{\"marker\":{\"colorbar\":{\"outlinewidth\":0,\"ticks\":\"\"}},\"type\":\"scattercarpet\"}],\"scattergeo\":[{\"marker\":{\"colorbar\":{\"outlinewidth\":0,\"ticks\":\"\"}},\"type\":\"scattergeo\"}],\"scattergl\":[{\"marker\":{\"colorbar\":{\"outlinewidth\":0,\"ticks\":\"\"}},\"type\":\"scattergl\"}],\"scattermapbox\":[{\"marker\":{\"colorbar\":{\"outlinewidth\":0,\"ticks\":\"\"}},\"type\":\"scattermapbox\"}],\"scatterpolargl\":[{\"marker\":{\"colorbar\":{\"outlinewidth\":0,\"ticks\":\"\"}},\"type\":\"scatterpolargl\"}],\"scatterpolar\":[{\"marker\":{\"colorbar\":{\"outlinewidth\":0,\"ticks\":\"\"}},\"type\":\"scatterpolar\"}],\"scatter\":[{\"marker\":{\"colorbar\":{\"outlinewidth\":0,\"ticks\":\"\"}},\"type\":\"scatter\"}],\"scatterternary\":[{\"marker\":{\"colorbar\":{\"outlinewidth\":0,\"ticks\":\"\"}},\"type\":\"scatterternary\"}],\"surface\":[{\"colorbar\":{\"outlinewidth\":0,\"ticks\":\"\"},\"colorscale\":[[0.0,\"#0d0887\"],[0.1111111111111111,\"#46039f\"],[0.2222222222222222,\"#7201a8\"],[0.3333333333333333,\"#9c179e\"],[0.4444444444444444,\"#bd3786\"],[0.5555555555555556,\"#d8576b\"],[0.6666666666666666,\"#ed7953\"],[0.7777777777777778,\"#fb9f3a\"],[0.8888888888888888,\"#fdca26\"],[1.0,\"#f0f921\"]],\"type\":\"surface\"}],\"table\":[{\"cells\":{\"fill\":{\"color\":\"#EBF0F8\"},\"line\":{\"color\":\"white\"}},\"header\":{\"fill\":{\"color\":\"#C8D4E3\"},\"line\":{\"color\":\"white\"}},\"type\":\"table\"}]},\"layout\":{\"annotationdefaults\":{\"arrowcolor\":\"#2a3f5f\",\"arrowhead\":0,\"arrowwidth\":1},\"autotypenumbers\":\"strict\",\"coloraxis\":{\"colorbar\":{\"outlinewidth\":0,\"ticks\":\"\"}},\"colorscale\":{\"diverging\":[[0,\"#8e0152\"],[0.1,\"#c51b7d\"],[0.2,\"#de77ae\"],[0.3,\"#f1b6da\"],[0.4,\"#fde0ef\"],[0.5,\"#f7f7f7\"],[0.6,\"#e6f5d0\"],[0.7,\"#b8e186\"],[0.8,\"#7fbc41\"],[0.9,\"#4d9221\"],[1,\"#276419\"]],\"sequential\":[[0.0,\"#0d0887\"],[0.1111111111111111,\"#46039f\"],[0.2222222222222222,\"#7201a8\"],[0.3333333333333333,\"#9c179e\"],[0.4444444444444444,\"#bd3786\"],[0.5555555555555556,\"#d8576b\"],[0.6666666666666666,\"#ed7953\"],[0.7777777777777778,\"#fb9f3a\"],[0.8888888888888888,\"#fdca26\"],[1.0,\"#f0f921\"]],\"sequentialminus\":[[0.0,\"#0d0887\"],[0.1111111111111111,\"#46039f\"],[0.2222222222222222,\"#7201a8\"],[0.3333333333333333,\"#9c179e\"],[0.4444444444444444,\"#bd3786\"],[0.5555555555555556,\"#d8576b\"],[0.6666666666666666,\"#ed7953\"],[0.7777777777777778,\"#fb9f3a\"],[0.8888888888888888,\"#fdca26\"],[1.0,\"#f0f921\"]]},\"colorway\":[\"#636efa\",\"#EF553B\",\"#00cc96\",\"#ab63fa\",\"#FFA15A\",\"#19d3f3\",\"#FF6692\",\"#B6E880\",\"#FF97FF\",\"#FECB52\"],\"font\":{\"color\":\"#2a3f5f\"},\"geo\":{\"bgcolor\":\"white\",\"lakecolor\":\"white\",\"landcolor\":\"#E5ECF6\",\"showlakes\":true,\"showland\":true,\"subunitcolor\":\"white\"},\"hoverlabel\":{\"align\":\"left\"},\"hovermode\":\"closest\",\"mapbox\":{\"style\":\"light\"},\"paper_bgcolor\":\"white\",\"plot_bgcolor\":\"#E5ECF6\",\"polar\":{\"angularaxis\":{\"gridcolor\":\"white\",\"linecolor\":\"white\",\"ticks\":\"\"},\"bgcolor\":\"#E5ECF6\",\"radialaxis\":{\"gridcolor\":\"white\",\"linecolor\":\"white\",\"ticks\":\"\"}},\"scene\":{\"xaxis\":{\"backgroundcolor\":\"#E5ECF6\",\"gridcolor\":\"white\",\"gridwidth\":2,\"linecolor\":\"white\",\"showbackground\":true,\"ticks\":\"\",\"zerolinecolor\":\"white\"},\"yaxis\":{\"backgroundcolor\":\"#E5ECF6\",\"gridcolor\":\"white\",\"gridwidth\":2,\"linecolor\":\"white\",\"showbackground\":true,\"ticks\":\"\",\"zerolinecolor\":\"white\"},\"zaxis\":{\"backgroundcolor\":\"#E5ECF6\",\"gridcolor\":\"white\",\"gridwidth\":2,\"linecolor\":\"white\",\"showbackground\":true,\"ticks\":\"\",\"zerolinecolor\":\"white\"}},\"shapedefaults\":{\"line\":{\"color\":\"#2a3f5f\"}},\"ternary\":{\"aaxis\":{\"gridcolor\":\"white\",\"linecolor\":\"white\",\"ticks\":\"\"},\"baxis\":{\"gridcolor\":\"white\",\"linecolor\":\"white\",\"ticks\":\"\"},\"bgcolor\":\"#E5ECF6\",\"caxis\":{\"gridcolor\":\"white\",\"linecolor\":\"white\",\"ticks\":\"\"}},\"title\":{\"x\":0.05},\"xaxis\":{\"automargin\":true,\"gridcolor\":\"white\",\"linecolor\":\"white\",\"ticks\":\"\",\"title\":{\"standoff\":15},\"zerolinecolor\":\"white\",\"zerolinewidth\":2},\"yaxis\":{\"automargin\":true,\"gridcolor\":\"white\",\"linecolor\":\"white\",\"ticks\":\"\",\"title\":{\"standoff\":15},\"zerolinecolor\":\"white\",\"zerolinewidth\":2}}},\"title\":{\"text\":\"Stock Prices of tesla\"},\"xaxis\":{\"title\":{\"font\":{\"color\":\"#7f7f7f\",\"family\":\"Courier New, monospace\",\"size\":18},\"text\":\"Date\"}},\"yaxis\":{\"title\":{\"font\":{\"color\":\"#7f7f7f\",\"family\":\"Courier New, monospace\",\"size\":18},\"text\":\"Price\"}}},                        {\"responsive\": true}                    ).then(function(){\n",
              "                            \n",
              "var gd = document.getElementById('c7bc5946-eca5-48ae-a058-124744c3bcea');\n",
              "var x = new MutationObserver(function (mutations, observer) {{\n",
              "        var display = window.getComputedStyle(gd).display;\n",
              "        if (!display || display === 'none') {{\n",
              "            console.log([gd, 'removed!']);\n",
              "            Plotly.purge(gd);\n",
              "            observer.disconnect();\n",
              "        }}\n",
              "}});\n",
              "\n",
              "// Listen for the removal of the full notebook cells\n",
              "var notebookContainer = gd.closest('#notebook-container');\n",
              "if (notebookContainer) {{\n",
              "    x.observe(notebookContainer, {childList: true});\n",
              "}}\n",
              "\n",
              "// Listen for the clearing of the current output cell\n",
              "var outputEl = gd.closest('.output');\n",
              "if (outputEl) {{\n",
              "    x.observe(outputEl, {childList: true});\n",
              "}}\n",
              "\n",
              "                        })                };                            </script>        </div>\n",
              "</body>\n",
              "</html>"
            ]
          },
          "metadata": {}
        }
      ],
      "source": [
        "#plot(plot) #plotting offline\n",
        "iplot(plot)"
      ]
    },
    {
      "cell_type": "code",
      "execution_count": 26,
      "metadata": {
        "id": "crZu8q1gmlbL"
      },
      "outputs": [],
      "source": [
        "# Building the regression model\n",
        "from sklearn.model_selection import train_test_split\n",
        "\n",
        "#For preprocessing\n",
        "from sklearn.preprocessing import MinMaxScaler\n",
        "from sklearn.preprocessing import StandardScaler\n",
        "\n",
        "#For model evaluation\n",
        "from sklearn.metrics import mean_squared_error as mse\n",
        "from sklearn.metrics import r2_score"
      ]
    },
    {
      "cell_type": "code",
      "execution_count": 27,
      "metadata": {
        "id": "vqaqRWV1mlbL"
      },
      "outputs": [],
      "source": [
        "#Split the data into train and test sets\n",
        "X = np.array(tesla.index).reshape(-1,1)\n",
        "Y = tesla['Close']\n",
        "X_train, X_test, Y_train, Y_test = train_test_split(X, Y, test_size=0.3, random_state=101)"
      ]
    },
    {
      "cell_type": "code",
      "execution_count": 28,
      "metadata": {
        "id": "s4a_9kKMmlbL"
      },
      "outputs": [],
      "source": [
        "# Feature scaling\n",
        "scaler = StandardScaler().fit(X_train)"
      ]
    },
    {
      "cell_type": "code",
      "execution_count": 29,
      "metadata": {
        "id": "E-jOvFT0mlbM"
      },
      "outputs": [],
      "source": [
        "from sklearn.linear_model import LinearRegression"
      ]
    },
    {
      "cell_type": "code",
      "execution_count": 30,
      "metadata": {
        "colab": {
          "base_uri": "https://localhost:8080/"
        },
        "id": "oKixklw-mlbM",
        "outputId": "768bdf31-a97c-431a-9e0e-dcf12a957fbb"
      },
      "outputs": [
        {
          "output_type": "execute_result",
          "data": {
            "text/plain": [
              "LinearRegression()"
            ]
          },
          "metadata": {},
          "execution_count": 30
        }
      ],
      "source": [
        "#Creating a linear model\n",
        "lm = LinearRegression()\n",
        "lm.fit(X_train, Y_train)"
      ]
    },
    {
      "cell_type": "code",
      "execution_count": 31,
      "metadata": {
        "id": "59yre9B0mlbM"
      },
      "outputs": [],
      "source": [
        "#Plot actual and predicted values for train dataset\n",
        "trace0 = go.Scatter(\n",
        "    x = X_train.T[0],\n",
        "    y = Y_train,\n",
        "    mode = 'markers',\n",
        "    name = 'Actual'\n",
        ")\n",
        "trace1 = go.Scatter(\n",
        "    x = X_train.T[0],\n",
        "    y = lm.predict(X_train).T,\n",
        "    mode = 'lines',\n",
        "    name = 'Predicted'\n",
        ")\n",
        "tesla_data = [trace0,trace1]\n",
        "layout.xaxis.title.text = 'Day'\n",
        "plot2 = go.Figure(data=tesla_data, layout=layout)"
      ]
    },
    {
      "cell_type": "code",
      "execution_count": 34,
      "metadata": {
        "colab": {
          "base_uri": "https://localhost:8080/",
          "height": 542
        },
        "id": "XtowwzGrmlbM",
        "outputId": "82c12219-8c25-4c9d-e379-95083d4b76a6"
      },
      "outputs": [
        {
          "output_type": "display_data",
          "data": {
            "text/html": [
              "<html>\n",
              "<head><meta charset=\"utf-8\" /></head>\n",
              "<body>\n",
              "    <div>            <script src=\"https://cdnjs.cloudflare.com/ajax/libs/mathjax/2.7.5/MathJax.js?config=TeX-AMS-MML_SVG\"></script><script type=\"text/javascript\">if (window.MathJax) {MathJax.Hub.Config({SVG: {font: \"STIX-Web\"}});}</script>                <script type=\"text/javascript\">window.PlotlyConfig = {MathJaxConfig: 'local'};</script>\n",
              "        <script src=\"https://cdn.plot.ly/plotly-2.8.3.min.js\"></script>                <div id=\"b69bf54c-788d-4046-981f-89fe3140f8cc\" class=\"plotly-graph-div\" style=\"height:525px; width:100%;\"></div>            <script type=\"text/javascript\">                                    window.PLOTLYENV=window.PLOTLYENV || {};                                    if (document.getElementById(\"b69bf54c-788d-4046-981f-89fe3140f8cc\")) {                    Plotly.newPlot(                        \"b69bf54c-788d-4046-981f-89fe3140f8cc\",                        [{\"mode\":\"markers\",\"name\":\"Actual\",\"x\":[1006,320,1073,783,836,407,1678,1375,69,862,766,327,80,127,433,1154,422,432,956,997,1440,189,990,617,1601,808,1404,1463,799,462,776,23,919,857,1427,354,1103,63,1263,286,1075,1552,1125,128,182,233,1572,292,1097,1072,773,1265,793,926,786,1613,1163,1304,551,1001,103,995,37,714,121,12,986,125,269,139,1534,454,1020,1688,1627,975,481,1657,952,1484,1397,769,28,1380,1562,937,1234,1650,1528,1239,1363,500,1405,24,263,976,1052,922,1603,1317,328,555,1365,909,619,1587,1054,626,938,932,612,268,1490,739,1090,339,118,285,978,618,1131,897,1084,1284,683,994,313,1102,165,665,249,1628,48,1435,267,1349,390,1475,399,518,1359,1101,1423,603,624,1260,859,446,300,1589,1466,405,1597,690,1140,1676,1520,1531,668,1314,730,1225,674,85,568,1644,1347,395,1330,260,290,1285,1264,333,1500,596,1346,77,1156,483,1376,1452,528,140,586,287,237,1336,1153,440,1623,1083,1339,567,931,279,761,529,1648,271,1645,1515,264,759,1240,1461,1150,143,258,1399,573,240,647,375,847,1033,693,1162,471,1469,319,1486,434,687,577,745,957,1342,318,1107,274,1456,1031,1381,790,1402,68,959,384,1313,111,682,201,1434,622,1480,1368,447,1081,1615,1565,843,666,418,1566,65,42,849,1170,410,16,151,1046,415,108,266,1082,1108,1465,1384,174,381,117,844,1546,1444,570,1640,560,698,605,1133,1497,914,241,331,1175,1558,1253,107,971,845,1453,1503,650,298,62,1409,1230,1019,400,231,1437,479,823,1575,625,1504,1003,610,1155,726,1506,1489,1592,930,513,875,834,1358,1608,643,999,1352,1289,866,1138,1195,737,106,969,414,458,9,180,1682,1095,408,1002,708,1297,1158,171,607,204,468,1451,1636,1617,861,1403,1027,464,1341,8,1241,762,1186,366,1203,1633,752,488,729,1492,1122,1593,170,1488,1564,1270,635,1252,1286,1012,1130,1621,1462,222,904,43,228,1332,281,1272,463,413,431,920,335,376,699,1551,933,265,648,1250,435,186,1159,1618,1191,1476,423,899,1303,1616,1521,940,1185,1026,1408,673,1200,1501,1458,974,1249,765,710,992,924,491,686,277,1193,780,740,1378,715,636,15,1254,133,248,205,1105,403,598,130,1057,1209,1690,445,425,64,824,630,1218,1625,829,341,846,996,791,455,1147,873,646,1018,155,1141,517,1199,124,1549,787,1689,970,308,987,789,1255,1201,1079,154,817,767,94,1496,1389,148,1429,1179,1087,593,448,720,1677,840,1684,961,522,878,173,918,1184,372,1222,1395,689,1048,772,213,1276,1338,202,86,113,443,220,798,27,1579,506,1529,1171,1377,523,1091,1370,613,802,1114,167,1635,888,893,695,595,948,388,227,958,461,310,660,1045,250,1060,1560,1674,294,1204,885,368,1430,1343,514,755,880,363,1662,83,234,473,1028,1516,13,1447,1038,562,476,39,1373,391,1441,38,322,571,1086,1667,188,29,1584,1310,1507,1582,530,916,4,314,1414,702,572,1345,206,818,1197,642,1039,406,1509,102,934,1169,1455,1499,58,272,1104,1023,806,935,1236,725,1483,1151,442,338,1322,582,1210,826,728,53,807,1508,392,1110,441,989,620,1439,724,809,474,176,565,1606,1679,1659,1062,1261,998,424,727,777,1685,1333,1238,120,1392,685,293,1328,1065,1470,164,1413,350,131,1078,820,1514,667,150,66,1468,261,1257,1245,939,160,259,738,332,945,438,428,1454,386,764,1632,364,1214,550,616,1477,1619,278,401,503,943,547,397,830,57,1269,159,1570,886,1312,344,95,1536,1293,872,317,736,538,255,1675,771,1548,1228,796,717,385,965,1043,655,1459,890,1433,1691,1543,656,156,827,1287,763,345,1357,282,301,712,1366,1177,912,450,1687,1189,833,312,1577,472,1296,166,324,283,526,302,181,1545,78,1112,382,1591,1290,837,1369,427,1119,1596,349,633,152,681,879,1660,600,1360,701,1194,527,91,1581,1283,905,825,1634,276,604,1416,581,1099,200,553,1094,951,1574,578,1067,1355,993,199,549,426,296,1167,675,751,1157,329,1472,842,1554,51,644,1068,377,1471,1586,315,785,852,627,243,1542,1537,411,211,1070,645,504,1000,1217,944,1246,1605,1244,1295,1037,1533,865,1567,1235,672,1004,17,153,1526,14,854,73,881,1680,1647,1510,1412,1007,1356,1651,93,76,1505,889,223,215,521,396,387,480,1174,511,1665,1624,297,1176,839,1326,494,1655,1573,746,169,1590,1069,409,838,1,112,398,1301,638,496,590,983,380,1467,437,1121,1535,1612,1071,1334,541,697,1126,1420,238,1049,967,977,1556,1008,430,158,1044,289,1354,718,1400,453,502,1450,1666,1013,1557,1143,1017,606,588,251,594,1604,444,402,1425,580,245,145,1553,871,1374,984,1064,611,478,221,311,1109,1519,671,177,1132,1266,684,1139,810,35,546,1025,634,358,101,662,891,1393,207,11,456,1686,1247,163,884,1383,1637,1446,1232,359,1681,192,733,208,1664,1611,110,97,921,244,1401,22,554,348,1588,591,88,1074,592,705,657,566,232,1661,1050,469,1569,663,1005,487,1010,235,1146,1015,96,190,10,1479,966,144,1076,558,1111,1436,270,819,658,1085,484,79,129,811,67,1149,649,1022,609,813,219,1673,1419,309,1309,1394,815,828,960,404,280,1421,253,52,855,561,1561,654,895,696,1382,589,82,703,217,982,305,5,539,788,711,356,1118,1407,1278,1259,535,465,21,1614,1173,1494,797,508,46,1485,953,451,226,1231,1268,357,71,1390,229,1127,262,947,632,197,505,709,1274,1550,1327,340,851,3,540,1620,1502,394,507,907,92,1654,1594,1638,1410,1021,1161,214,741,950,47,1523,378,923,1300,499,1034,542,419,498,1299,892,676,1487,1011,203,760,273,1164,362,512,1324,911,615,1351,1656,1426,1460,1353,750,1318,1639,1464,436,906,519,831,1308,1123,979,1598,1288,239,1481,1527,105,896,343,1643,1100,275,1273,1580,1442,59,883,371,136,1530,623,49,40,477,908,1029,1134,732,316,936,575,1668,1576,973,1417,75,599,1599,1361,1547,863],\"y\":[239.059998,23.66,251.419998,153.479996,164.5,31.93,249.990005,218.580002,20.459999,127.279999,109.050003,27.940001,20.75,27.73,35.32,205.199997,34.41,35.0,199.110001,224.610001,232.740005,23.92,206.899994,34.57,190.559998,165.539993,188.070007,248.289993,169.0,33.34,131.740005,20.92,217.649994,122.099998,186.350006,31.76,251.699997,21.4,267.880005,26.1,260.619995,219.990005,197.809998,26.5,22.959999,28.52,208.990005,23.870001,230.970001,240.240005,124.07,257.920013,157.100006,252.660004,145.429993,191.169998,212.800003,247.690002,28.139999,229.589996,34.57,203.520004,19.1,53.279999,31.700001,20.639999,207.770004,25.549999,29.290001,25.75,227.199997,32.240002,220.020004,258.0,198.149994,190.619995,30.280001,252.949997,204.190002,220.279999,204.990005,119.68,19.6,232.559998,198.300003,234.910004,247.460007,238.360001,230.009995,248.350006,229.639999,32.189999,189.699997,21.950001,27.610001,188.589996,281.190002,252.539993,194.940002,260.940002,28.049999,27.370001,230.259995,186.529999,35.259998,193.960007,277.390015,34.0,228.889999,237.789993,34.619999,28.700001,223.229996,97.349998,221.669998,29.370001,29.6,26.23,196.089996,35.279999,222.259995,178.559998,227.479996,270.130005,35.150002,204.470001,26.379999,249.100006,21.83,38.540001,27.709999,198.690002,20.540001,207.5,28.690001,231.770004,22.790001,208.919998,29.33,32.150002,221.800003,251.080002,179.0,32.919998,34.610001,269.149994,120.839996,35.0,22.940001,203.559998,253.740005,31.799999,197.729996,38.16,210.619995,257.0,222.529999,230.610001,34.380001,262.070007,92.730003,244.740005,36.650002,21.190001,28.49,231.279999,208.350006,26.77,220.690002,28.35,21.950001,246.130005,254.960007,28.030001,214.960007,31.309999,213.789993,20.23,210.940002,31.690001,221.089996,265.420013,26.25,25.639999,28.389999,25.83,28.370001,228.100006,199.369995,37.939999,193.149994,226.350006,211.720001,27.540001,241.490005,24.24,123.449997,26.1,237.75,28.0,229.869995,214.440002,27.58,120.089996,248.990005,247.369995,201.289993,23.040001,29.73,198.699997,29.4,27.860001,36.990002,27.57,139.770004,248.929993,44.34,216.289993,32.959999,240.759995,23.73,217.910004,34.98,36.619999,28.4,100.300003,198.119995,210.350006,24.389999,247.740005,28.17,247.820007,238.520004,229.949997,144.899994,196.380005,21.120001,218.639999,27.120001,262.25,30.309999,35.290001,25.139999,205.179993,34.400002,208.289993,232.710007,34.48,227.059998,196.649994,200.419998,162.169998,35.16,33.75,205.399994,20.41,19.700001,144.699997,207.339996,31.49,21.0,23.940001,262.549988,34.5,34.349998,27.889999,229.699997,248.710007,251.820007,228.949997,24.66,28.559999,28.530001,175.199997,223.509995,227.75,29.16,216.990005,32.540001,40.5,32.470001,225.710007,229.360001,198.229996,28.43,27.57,197.330002,202.830002,259.790009,35.330002,178.589996,176.809998,257.200012,215.470001,37.950001,24.0,20.530001,173.479996,247.139999,215.399994,29.57,29.549999,218.339996,30.799999,180.979996,200.699997,34.43,219.699997,232.5,33.689999,203.600006,91.5,196.660004,223.039993,202.759995,234.410004,31.51,147.979996,172.600006,221.070007,183.770004,34.380001,227.119995,216.5,238.169998,140.479996,211.279999,190.570007,94.839996,34.330002,207.279999,34.970001,31.940001,18.139999,22.82,251.210007,242.589996,32.580002,237.220001,51.009998,218.869995,218.550003,24.360001,32.27,25.16,32.470001,255.470001,219.529999,189.570007,126.940002,193.559998,225.009995,33.779999,215.259995,17.049999,245.919998,122.269997,194.729996,30.889999,210.899994,207.699997,102.400002,27.91,87.239998,218.960007,208.880005,202.339996,24.02,225.119995,196.410004,266.679993,34.34,262.51001,242.509995,219.070007,220.970001,186.800003,249.970001,26.6,181.410004,19.870001,26.719999,219.25,25.059999,282.26001,33.130001,34.18,35.290001,248.0,28.25,27.77,41.860001,220.960007,230.970001,27.23,36.98,260.410004,34.959999,22.33,220.990005,189.399994,201.720001,208.690002,34.040001,174.600006,238.630005,196.119995,221.529999,220.440002,195.699997,224.820007,182.779999,35.580002,203.25,217.699997,251.860001,190.160004,253.119995,127.260002,52.0,205.309998,250.559998,30.08,36.009998,27.200001,190.410004,144.679993,102.040001,233.389999,54.110001,33.68,20.219999,267.670013,27.879999,27.209999,25.75,253.979996,30.25,31.07,26.620001,281.100006,205.270004,262.049988,38.009998,33.110001,21.98,183.070007,33.220001,226.029999,192.179993,179.720001,28.709999,151.160004,206.419998,149.580002,32.66,191.929993,147.940002,36.0,217.160004,24.49,206.660004,33.349998,203.100006,30.09,224.839996,139.360001,255.729996,201.350006,25.799999,204.699997,142.0,265.170013,207.669998,236.910004,23.07,188.639999,120.25,29.360001,235.520004,223.429993,24.01,195.740005,193.880005,231.100006,31.5,33.150002,69.400002,246.229996,164.470001,246.869995,207.860001,29.84,143.550003,24.940001,209.600006,188.679993,28.0,236.800003,200.309998,37.860001,263.25,121.699997,26.870001,265.410004,210.089996,25.58,21.84,32.369999,37.240002,27.67,166.059998,19.59,208.460007,31.290001,229.509995,204.110001,234.509995,28.950001,242.770004,231.130005,33.900002,169.929993,231.639999,23.610001,213.339996,151.279999,164.130005,42.009998,31.540001,212.229996,28.23,26.82,204.380005,33.490002,26.01,37.889999,256.779999,27.57,253.860001,197.360001,273.51001,23.73,209.779999,149.559998,30.41,201.039993,212.960007,32.700001,107.360001,155.5,34.419998,251.330002,21.360001,28.76,30.059999,228.919998,215.940002,21.91,226.889999,260.309998,31.049999,28.57,19.200001,227.070007,26.6,238.320007,20.129999,26.959999,29.799999,235.339996,269.230011,23.25,19.030001,201.509995,250.240005,196.399994,200.949997,27.27,193.639999,16.110001,25.52,143.669998,43.299999,29.299999,206.929993,26.74,190.899994,187.589996,34.099998,261.380005,31.6,198.550003,33.400002,233.979996,217.110001,249.919998,217.869995,20.77,27.639999,258.679993,222.490005,163.520004,240.039993,251.449997,92.25,215.210007,206.550003,37.330002,29.870001,246.649994,28.82,209.410004,168.779999,87.589996,21.120001,164.929993,193.149994,26.809999,246.720001,37.849998,203.990005,33.610001,226.380005,84.839996,166.580002,29.43,24.01,30.66,188.559998,250.020004,251.929993,261.380005,280.019989,231.669998,33.77,89.940002,134.279999,244.899994,216.880005,249.449997,31.360001,211.0,35.950001,23.110001,231.960007,250.029999,241.800003,21.870001,148.25,33.93,26.67,257.01001,193.0,213.979996,36.110001,23.91,20.6,247.710007,28.17,267.089996,250.699997,220.169998,22.84,28.809999,95.370003,27.34,216.970001,34.080002,34.740002,250.070007,27.25,129.899994,208.789993,34.869999,231.550003,28.52,34.169998,208.960007,181.880005,24.75,29.07,31.610001,212.369995,28.690001,27.969999,183.940002,21.059999,263.140015,23.08,206.429993,147.0,253.570007,31.27,28.040001,230.610001,260.720001,147.649994,24.120001,92.589996,29.4,29.02,255.990005,122.739998,222.929993,248.839996,167.009995,59.5,26.91,207.889999,255.710007,38.130001,254.509995,145.720001,208.720001,261.5,225.589996,39.169998,23.209999,172.929993,241.139999,125.610001,31.84,214.0,23.82,23.84,54.939999,237.190002,202.440002,195.320007,33.09,246.169998,198.080002,183.399994,25.629999,213.699997,32.25,230.770004,22.530001,27.879999,25.299999,27.35,23.610001,22.809999,223.240005,20.049999,248.440002,28.08,200.089996,242.509995,173.149994,230.380005,33.07,214.360001,199.970001,33.220001,34.77,23.629999,36.849998,151.410004,249.240005,31.379999,220.009995,43.75,185.0,27.42,24.440001,196.610001,266.279999,177.110001,174.729996,208.449997,27.34,33.0,151.039993,28.059999,240.199997,24.93,28.549999,241.699997,216.929993,206.270004,28.32,252.139999,207.190002,202.300003,24.65,28.41,33.119999,24.629999,204.460007,37.689999,101.489998,218.360001,27.42,222.559998,159.940002,211.339996,20.17,34.52,246.949997,27.9,232.320007,196.509995,26.190001,147.380005,137.600006,34.279999,27.32,225.610001,230.029999,33.169998,27.6,245.259995,35.189999,31.959999,227.789993,226.050003,208.449997,251.410004,185.350006,256.0,242.179993,259.959991,230.009995,138.949997,206.339996,247.429993,34.650002,236.889999,21.290001,23.459999,220.5,20.299999,121.580002,20.24,151.119995,250.479996,229.589996,201.789993,147.990005,240.059998,214.309998,243.759995,24.629999,20.540001,219.610001,147.529999,25.959999,26.440001,30.66,27.42,27.620001,31.02,203.339996,31.49,262.079987,192.289993,24.74,199.559998,162.860001,246.149994,29.77,254.470001,205.809998,102.199997,23.940001,199.100006,246.600006,31.1,169.660004,23.83,31.559999,28.940001,248.479996,33.529999,29.91,28.129999,211.559998,28.73,251.470001,34.400002,209.839996,225.789993,184.520004,242.679993,221.309998,29.51,41.830002,205.820007,166.580002,27.120001,263.859985,210.910004,191.559998,200.770004,239.720001,36.09,23.25,254.339996,22.299999,212.940002,55.509998,199.970001,32.25,33.110001,246.990005,269.200012,223.059998,197.779999,204.25,219.580002,32.130001,27.52,27.459999,31.15,190.059998,36.580002,29.58,190.339996,27.33,26.5,24.68,215.199997,147.470001,217.020004,210.240005,259.320007,33.82,28.77,27.549999,25.85,242.779999,224.649994,34.830002,24.07,227.820007,259.149994,35.080002,210.949997,166.229996,18.77,28.32,223.570007,34.400002,32.560001,30.99,38.27,139.339996,207.850006,26.389999,19.889999,33.16,243.690002,250.690002,23.18,150.100006,230.570007,219.740005,230.130005,245.619995,31.75,251.570007,26.66,104.629997,26.93,257.480011,185.020004,31.49,30.799999,253.0,26.5,202.550003,19.940001,29.35,33.639999,199.100006,29.25,21.25,255.210007,28.92,46.970001,39.48,27.66,30.139999,251.550003,269.700012,30.190001,205.220001,37.040001,235.600006,27.879999,229.25,30.129999,193.070007,218.130005,29.84,23.709999,19.84,207.610001,207.729996,24.49,259.570007,29.48,248.089996,215.149994,28.49,193.369995,39.240002,230.470001,30.41,20.65,26.629999,166.220001,20.99,201.619995,38.029999,219.580002,33.23,183.389999,27.07,277.390015,166.770004,25.77,248.479996,209.970001,182.330002,178.699997,207.990005,31.15,23.639999,177.740005,28.290001,20.719999,126.089996,31.34,194.470001,37.740002,170.009995,41.369999,229.699997,27.379999,20.85,45.59,27.91,207.300003,24.08,15.8,30.299999,139.669998,51.200001,31.450001,223.710007,196.940002,264.820007,268.26001,29.940001,33.939999,20.35,193.139999,207.190002,220.679993,166.449997,30.66,21.059999,216.220001,203.779999,33.439999,27.969999,244.350006,265.649994,31.66,20.43,219.039993,28.98,218.259995,28.639999,225.399994,35.360001,26.49,31.41,50.43,267.869995,222.619995,241.460007,28.879999,138.699997,19.200001,30.01,181.470001,217.929993,26.6,30.4,174.419998,24.98,254.610001,202.240005,214.679993,175.330002,220.539993,217.479996,26.690001,100.050003,215.460007,21.049999,226.25,28.57,244.809998,242.990005,33.779999,252.389999,29.110001,33.619999,32.09,224.839996,161.270004,38.23,219.580002,222.660004,25.030001,121.610001,28.17,202.880005,33.299999,31.27,239.880005,196.619995,33.900002,225.330002,252.509995,191.929993,253.880005,219.080002,99.550003,261.059998,213.690002,253.75,35.150002,178.729996,32.27,183.559998,248.910004,207.0,195.300003,190.789993,237.369995,27.620001,204.660004,222.270004,35.32,176.679993,32.310001,229.009995,241.929993,28.77,266.769989,201.0,234.240005,19.870001,150.429993,28.620001,26.959999,228.490005,34.59,20.9,19.9,27.559999,178.380005,223.300003,222.229996,110.330002,24.59,235.839996,29.25,280.600006,204.029999,184.669998,155.169998,20.75,31.610001,188.020004,217.75,225.0,124.169998],\"type\":\"scatter\"},{\"mode\":\"lines\",\"name\":\"Predicted\",\"x\":[1006,320,1073,783,836,407,1678,1375,69,862,766,327,80,127,433,1154,422,432,956,997,1440,189,990,617,1601,808,1404,1463,799,462,776,23,919,857,1427,354,1103,63,1263,286,1075,1552,1125,128,182,233,1572,292,1097,1072,773,1265,793,926,786,1613,1163,1304,551,1001,103,995,37,714,121,12,986,125,269,139,1534,454,1020,1688,1627,975,481,1657,952,1484,1397,769,28,1380,1562,937,1234,1650,1528,1239,1363,500,1405,24,263,976,1052,922,1603,1317,328,555,1365,909,619,1587,1054,626,938,932,612,268,1490,739,1090,339,118,285,978,618,1131,897,1084,1284,683,994,313,1102,165,665,249,1628,48,1435,267,1349,390,1475,399,518,1359,1101,1423,603,624,1260,859,446,300,1589,1466,405,1597,690,1140,1676,1520,1531,668,1314,730,1225,674,85,568,1644,1347,395,1330,260,290,1285,1264,333,1500,596,1346,77,1156,483,1376,1452,528,140,586,287,237,1336,1153,440,1623,1083,1339,567,931,279,761,529,1648,271,1645,1515,264,759,1240,1461,1150,143,258,1399,573,240,647,375,847,1033,693,1162,471,1469,319,1486,434,687,577,745,957,1342,318,1107,274,1456,1031,1381,790,1402,68,959,384,1313,111,682,201,1434,622,1480,1368,447,1081,1615,1565,843,666,418,1566,65,42,849,1170,410,16,151,1046,415,108,266,1082,1108,1465,1384,174,381,117,844,1546,1444,570,1640,560,698,605,1133,1497,914,241,331,1175,1558,1253,107,971,845,1453,1503,650,298,62,1409,1230,1019,400,231,1437,479,823,1575,625,1504,1003,610,1155,726,1506,1489,1592,930,513,875,834,1358,1608,643,999,1352,1289,866,1138,1195,737,106,969,414,458,9,180,1682,1095,408,1002,708,1297,1158,171,607,204,468,1451,1636,1617,861,1403,1027,464,1341,8,1241,762,1186,366,1203,1633,752,488,729,1492,1122,1593,170,1488,1564,1270,635,1252,1286,1012,1130,1621,1462,222,904,43,228,1332,281,1272,463,413,431,920,335,376,699,1551,933,265,648,1250,435,186,1159,1618,1191,1476,423,899,1303,1616,1521,940,1185,1026,1408,673,1200,1501,1458,974,1249,765,710,992,924,491,686,277,1193,780,740,1378,715,636,15,1254,133,248,205,1105,403,598,130,1057,1209,1690,445,425,64,824,630,1218,1625,829,341,846,996,791,455,1147,873,646,1018,155,1141,517,1199,124,1549,787,1689,970,308,987,789,1255,1201,1079,154,817,767,94,1496,1389,148,1429,1179,1087,593,448,720,1677,840,1684,961,522,878,173,918,1184,372,1222,1395,689,1048,772,213,1276,1338,202,86,113,443,220,798,27,1579,506,1529,1171,1377,523,1091,1370,613,802,1114,167,1635,888,893,695,595,948,388,227,958,461,310,660,1045,250,1060,1560,1674,294,1204,885,368,1430,1343,514,755,880,363,1662,83,234,473,1028,1516,13,1447,1038,562,476,39,1373,391,1441,38,322,571,1086,1667,188,29,1584,1310,1507,1582,530,916,4,314,1414,702,572,1345,206,818,1197,642,1039,406,1509,102,934,1169,1455,1499,58,272,1104,1023,806,935,1236,725,1483,1151,442,338,1322,582,1210,826,728,53,807,1508,392,1110,441,989,620,1439,724,809,474,176,565,1606,1679,1659,1062,1261,998,424,727,777,1685,1333,1238,120,1392,685,293,1328,1065,1470,164,1413,350,131,1078,820,1514,667,150,66,1468,261,1257,1245,939,160,259,738,332,945,438,428,1454,386,764,1632,364,1214,550,616,1477,1619,278,401,503,943,547,397,830,57,1269,159,1570,886,1312,344,95,1536,1293,872,317,736,538,255,1675,771,1548,1228,796,717,385,965,1043,655,1459,890,1433,1691,1543,656,156,827,1287,763,345,1357,282,301,712,1366,1177,912,450,1687,1189,833,312,1577,472,1296,166,324,283,526,302,181,1545,78,1112,382,1591,1290,837,1369,427,1119,1596,349,633,152,681,879,1660,600,1360,701,1194,527,91,1581,1283,905,825,1634,276,604,1416,581,1099,200,553,1094,951,1574,578,1067,1355,993,199,549,426,296,1167,675,751,1157,329,1472,842,1554,51,644,1068,377,1471,1586,315,785,852,627,243,1542,1537,411,211,1070,645,504,1000,1217,944,1246,1605,1244,1295,1037,1533,865,1567,1235,672,1004,17,153,1526,14,854,73,881,1680,1647,1510,1412,1007,1356,1651,93,76,1505,889,223,215,521,396,387,480,1174,511,1665,1624,297,1176,839,1326,494,1655,1573,746,169,1590,1069,409,838,1,112,398,1301,638,496,590,983,380,1467,437,1121,1535,1612,1071,1334,541,697,1126,1420,238,1049,967,977,1556,1008,430,158,1044,289,1354,718,1400,453,502,1450,1666,1013,1557,1143,1017,606,588,251,594,1604,444,402,1425,580,245,145,1553,871,1374,984,1064,611,478,221,311,1109,1519,671,177,1132,1266,684,1139,810,35,546,1025,634,358,101,662,891,1393,207,11,456,1686,1247,163,884,1383,1637,1446,1232,359,1681,192,733,208,1664,1611,110,97,921,244,1401,22,554,348,1588,591,88,1074,592,705,657,566,232,1661,1050,469,1569,663,1005,487,1010,235,1146,1015,96,190,10,1479,966,144,1076,558,1111,1436,270,819,658,1085,484,79,129,811,67,1149,649,1022,609,813,219,1673,1419,309,1309,1394,815,828,960,404,280,1421,253,52,855,561,1561,654,895,696,1382,589,82,703,217,982,305,5,539,788,711,356,1118,1407,1278,1259,535,465,21,1614,1173,1494,797,508,46,1485,953,451,226,1231,1268,357,71,1390,229,1127,262,947,632,197,505,709,1274,1550,1327,340,851,3,540,1620,1502,394,507,907,92,1654,1594,1638,1410,1021,1161,214,741,950,47,1523,378,923,1300,499,1034,542,419,498,1299,892,676,1487,1011,203,760,273,1164,362,512,1324,911,615,1351,1656,1426,1460,1353,750,1318,1639,1464,436,906,519,831,1308,1123,979,1598,1288,239,1481,1527,105,896,343,1643,1100,275,1273,1580,1442,59,883,371,136,1530,623,49,40,477,908,1029,1134,732,316,936,575,1668,1576,973,1417,75,599,1599,1361,1547,863],\"y\":[158.85113824540258,41.921000719922674,170.27142864512146,120.8403209448457,129.8742820073099,56.75033303000541,273.3949464336278,221.74796149161554,-0.8624752551435915,134.3060364907829,117.94263532103645,43.11416538855002,1.0124977955565235,9.02374628491156,61.18208751347841,184.07804838209503,59.30711446277829,61.01163541796021,150.32853346949298,157.31706938573885,232.82734770029805,19.59177620703948,156.12390471711151,92.54527308882578,260.270135078727,125.1016233328005,226.69107226164311,236.74774589721648,123.5675544731368,66.12519828350598,119.64715627621837,-8.703271648980436,144.02180593531986,133.45377601319194,230.61147045856154,47.716371967541214,175.38499151066725,-1.8851878282527448,202.657326793578,36.125629472304134,170.61233283615786,251.9179823983356,179.13493761206746,9.194198380429754,18.398611538412137,27.091668409839947,255.32702430869944,37.14834204541329,174.36227893755807,170.10097654960327,119.13579998966378,202.9982309846144,122.54484190002762,145.2149706039472,121.35167723140029,262.31556022494533,185.61211724175877,209.6458627098239,81.29543478462509,157.99887776781162,4.932895992474947,156.97616519470247,-6.316942311725745,109.07912635409043,8.001033711802407,-10.578244699680553,155.44209633503874,8.682842093875177,33.22794384849487,11.06917143112987,248.84984467900813,64.76158151936045,161.23746758265727,275.0994673888097,264.7018895622,153.56712328433863,69.36378809835163,269.81545242774575,149.6467250874202,240.3272399030985,225.49790759301578,118.453991607591,-7.851011171389476,222.6002219692065,253.62250335351752,147.08994365464733,197.71421602355042,268.6222877591184,247.82713210589895,198.56647650114138,219.70253634539725,72.60237791319729,226.8615243571613,-8.532819553462245,32.205231275385714,153.73757537985682,166.69193463923943,144.53316222187442,260.6110392697634,211.8617399515604,43.284617484068214,81.97724316669786,220.04344053643362,142.31728498013794,92.88617727986217,257.8838057414723,167.0328388302758,94.07934194848951,147.26039575016551,146.23768317705637,91.69301261123482,33.057491752976674,241.34995247620765,113.34042874204525,173.16911426893074,45.15959053476833,7.48967742524783,35.95517737678594,154.0784795708932,92.71572518434398,180.15765018517664,140.27185983391962,172.1464016958216,206.23682079946005,103.79511139302647,156.8057130991843,40.72783605129533,175.21453941514903,15.500925914602867,100.72697367369902,29.81890193813102,264.8723416577182,-4.44196926102563,231.9750872227071,32.88703965745848,217.31620700814256,53.85264740619614,238.79317104343477,55.38671626585986,75.67051563252475,219.02072796332448,175.04408731963085,229.92966207648877,90.15894375157109,93.73843775745313,202.14597050702343,133.7946802042283,63.3979647552149,38.51195880955883,258.2247099325087,237.25910218377103,56.40942883896902,259.58832669665424,104.98827606165382,181.69171904484034,273.05404224259144,246.4635153417534,248.33848839245354,101.2383299602536,211.3503836650058,111.80635988238151,196.1801471638867,102.26104253336274,1.8647582731474852,84.19312040843437,267.59957518600925,216.97530281710615,54.7049078837871,214.0776171932969,31.693874988831134,36.80743785437691,206.40727289497823,202.8277788890962,44.136877961659174,243.05447343138957,88.96577908294374,216.80485072158797,0.5011415090019469,184.41895257313143,69.70469228938802,221.91841358713373,234.87277284651634,77.37503658770667,11.23962352664806,87.26125812776182,36.29608156782233,27.773476791912714,215.10032976640605,183.90759628657685,62.375252182105754,264.02008118012725,171.97594960030338,215.6116860529606,84.02266831291617,146.06723108153815,34.93246480367679,117.09037484344549,77.54548868322486,268.28138356808205,33.568848039531254,267.77002728152746,245.61125486416245,32.37568337090391,116.74947065240909,198.7369285966596,236.40684170618007,183.3962400000223,11.750979813202637,31.352970797794754,225.83881178405215,85.04538088602533,28.284833078467287,97.65883595437155,51.29586597342325,131.74925505801002,163.45334482439378,105.4996323482084,185.44166514624058,67.65926714316971,237.77045847032562,41.75054862440448,240.66814409413487,61.352539608996594,104.47691977509925,85.72718926809809,114.3631413151544,150.49898556501117,216.1230423395152,41.58009652888629,176.06679989274002,34.08020432608583,235.55458122858911,163.11244063335738,222.7706740647247,122.03348561347306,226.35016807060674,-1.032927350661783,150.83988975604754,52.82993483308698,211.17993156948762,6.2965127566204835,103.62465929750829,21.637201353257794,231.80463512718887,93.39753356641674,239.64543152102573,220.5547968229882,63.5684168507331,171.635045409267,262.6564644159817,254.1338596400721,131.06744667593725,100.89742576921721,58.62530608070551,254.30431173559026,-1.5442836372163615,-5.464681834134783,132.0901592490464,186.80528191038613,57.26168931655998,-9.896436317607783,13.114596577348177,165.6692220661303,58.11394979415094,5.785156470065907,32.71658756194029,171.8054975047852,176.2372519882582,237.08865008825285,223.28203035127927,17.0349947742666,52.31857854653241,7.319225329729637,131.23789877145543,250.89526982522642,233.50915608237082,84.53402459947074,266.9177668039365,82.82950364428882,106.35189282579935,90.49984794260747,180.498554376213,242.543117144835,143.1695454577289,28.45528517398548,43.79597377062279,187.6575423879771,252.9406949714447,200.95280583839607,5.614704374547717,152.88531490226586,131.40835086697362,235.04322494203453,243.56582971794415,98.17019224092613,38.17105461852244,-2.055639923770938,227.54333273923407,197.03240764147765,161.0670154871391,55.55716836137806,26.75076421880356,232.31599141374346,69.02288390731525,127.65840476557341,255.83838059525402,93.90888985297133,243.73628181346237,158.33978195884802,91.35210842019843,184.24850047761325,111.12455150030874,244.07718600449874,241.17950038068946,258.7360662190633,145.89677898601997,74.81825515493378,136.5219137325194,129.53337781627351,218.85027586780626,261.46329974735437,96.97702757229878,157.65797357677525,217.82756329469711,207.089081277051,134.98784487285567,181.35081485380397,191.06658429834093,112.99952455100886,5.444252279029524,152.54441071122946,57.943497698632754,65.4433899014332,-11.08960098623513,18.057707347375754,274.07675481570055,174.0213747465217,56.920785125523594,158.1693298633298,108.05641378098129,208.45269804119656,184.7598567641678,16.523638487712024,90.84075213364386,22.148557639812367,67.14791085661513,234.70232075099815,266.23595842186376,262.9973686070181,134.13558439526471,226.52062016612493,162.43063225128464,66.46610247454237,215.952590243997,-11.260053081753322,198.90738069217778,117.26082693896367,189.5325154386772,49.76179711375952,192.43020106248647,265.72460213530917,115.55630598378175,70.55695276697898,111.63590778686333,241.69085666724405,178.6235813255129,258.9065183145815,16.35318639219383,241.00904828517127,253.9634075445539,203.85049146220535,95.61341080815325,200.7823537428779,206.57772499049642,159.87385081851173,179.98719808965842,263.6791769890908,236.57729380169826,25.216695359139827,141.46502450254698,-5.2942297386165915,26.23940793224898,214.41852138433327,35.273368994713174,204.19139565324173,66.29565037902417,57.773045603114554,60.84118332244202,144.19225803083805,44.47778215269556,51.46631806894145,106.52234492131755,251.74753030281738,146.40813527257455,32.5461354664221,97.82928804988974,200.44144955184152,61.522991704514794,19.080419920484907,184.930308859686,263.1678207025363,190.38477591626815,238.96362313895295,59.47756655829647,140.61276402495602,209.4754106143057,262.82691651149986,246.63396743727162,147.6012999412019,189.362063343159,162.26018015576642,227.3728806437159,102.09059043784455,191.9188447759319,243.22492552690778,235.89548541962552,153.39667118882042,200.2709974563233,117.77218322551823,108.39731797201767,156.4648089081479,144.87406641291082,71.06830905353355,104.30646767958105,34.59156061264041,190.72568010730456,120.32896465829114,113.51088083756343,222.25931777817013,109.24957844960863,95.78386290367143,-10.066888413125977,201.1232579339143,10.046458858020713,29.648449842612827,22.31900973533056,175.72589570170362,56.068524647932634,89.30668327398013,9.535102571466137,167.5441951168304,193.45291363559562,275.4403715798461,63.227512659696714,59.81847074933286,-1.7147357327345532,127.8288568610916,94.76115033056229,194.98698249525935,264.3609853711636,128.68111733868255,45.500494725804714,131.5788029624918,157.14661729022066,122.20393770899125,64.93203361487863,182.8848837134677,136.181009541483,97.48838385885337,160.8965633916209,13.796404959420947,181.86217114035856,75.50006353700655,191.7483926804137,8.512389998356984,251.406626111781,121.52212932691847,275.26991948432794,152.71486280674767,39.87557557370437,155.61254843055693,121.86303351795485,201.29371002943248,192.08929687145007,171.29414121823064,13.625952863902754,126.63569219246423,118.11308741655463,3.398827132811217,242.37266504931682,224.13429082887023,12.6032402907936,230.9523746495979,188.33935077004986,172.65775798237615,88.45442279638917,63.73886894625129,110.1018389271996,273.2244943381096,130.55609038938266,274.417659006737,151.18079394708394,76.35232401459751,137.03327001907397,16.864542678748407,143.85135383980167,189.19161124764082,50.784509686868674,195.66879087733213,225.15700340197938,104.81782396613563,166.01012625716666,118.9653478941456,23.6826264994761,204.8732040353145,215.44123395744242,21.80765344877598,2.035210368665677,6.63741694765687,62.88660846866033,24.875791168103447,123.39710237761858,-8.021463266907668,256.52018897732677,73.62509048630643,247.99758420141717,186.97573400590431,222.0888656826519,76.52277611011571,173.33956636444893,220.89570101402458,91.86346470675302,124.07891075969135,177.25996456136735,15.841830105639254,266.06550632634554,138.7377909742559,139.59005145184685,105.84053653924478,88.79532698742555,148.96491670534743,53.511743215159754,26.068955836730794,150.66943766052935,65.95474618798778,40.216479764740754,99.87471319610805,165.49876997061207,29.989354033649214,168.05555140338498,253.28159916248114,272.71313805155506,37.489246236449674,192.60065315800466,138.22643468770133,50.1027013047959,231.12282674511613,216.29349443503338,74.98870725045198,116.06766227033631,137.37417421011037,49.25044082720494,270.6677129053367,1.5238540821111002,27.262120505358133,68.0001713342061,162.60108434680282,245.78170695968066,-10.40779260416236,234.02051236892538,164.30560530198474,83.17040783532521,68.51152762076067,-5.976038120689361,221.40705730057917,54.02309950171433,232.99779979581623,-6.146490216207553,42.26190491095906,84.70447669498894,172.48730588685797,271.5199733829277,19.421324111521294,-7.680559075871283,257.3724494549177,210.66857528293303,244.2476381000169,257.03154526388136,77.71594077874306,143.51044964876527,-11.94186146382609,40.89828814681352,228.39559321682503,107.03370120787213,84.87492879050713,216.63439862606978,22.489461830848754,126.80614428798245,191.4074884893773,96.8065754767806,164.47605739750293,56.57988093448721,244.58854229105333,4.7624438969567535,146.57858736809274,186.63482981486794,235.38412913307093,242.88402133587138,-2.7374483058437065,33.73930013504945,175.55544360618543,161.74882386921186,124.76071914176413,146.74903946361093,198.05512021458682,110.95409940479055,240.15678780758032,183.56669209554047,62.71615637314213,44.989138439250134,212.71400042915135,86.57944974568906,193.6233657311138,128.16976105212797,111.46545569134513,-3.589708783434668,124.93117123728231,244.41809019553511,54.19355159723251,176.57815617929458,62.54570427762394,155.95345262159333,93.05662937538037,232.65689560477986,110.78364730927235,125.27207542831871,68.17062342972429,17.375898965302984,83.68176412187978,261.12239555631794,273.565398529146,270.1563566187821,168.39645559442135,202.31642260254162,157.48752148125706,59.648018653814674,111.29500359582694,119.81760837173655,274.58811110225514,214.58897347985146,198.3960244056232,7.8305816162842135,224.64564711542482,104.13601558406286,37.31879414093148,213.7367130022605,168.90781188097594,237.9409105658438,15.330473819084677,228.22514112130685,47.03456358546844,9.70555466698433,171.12368912271242,127.14704847901882,245.4408027686443,101.0678778647354,12.944144481829984,-1.3738315416981681,237.60000637480744,31.864327084349327,201.63461422046885,199.58918907425056,147.4308478456837,14.648665437011907,31.523422893312947,113.16997664652705,43.96642586614098,148.45356041879285,62.03434799106937,60.32982703588745,235.21367703755274,53.17083902412337,117.60173113000005,265.55415003979095,49.420892922723134,194.30517411318658,81.1249826891069,92.3748209933076,239.13407523447117,263.33827279805445,34.7620127081586,55.72762045689625,73.11373419975186,148.11265622775647,80.61362640255233,55.04581207482347,128.85156943420074,-2.9079004013619,203.68003936668717,14.478213341493714,254.98612011766306,138.39688678321951,211.00947947396944,46.01185101235929,3.569279228329407,249.1907488700445,207.77088965912378,136.01055744596482,41.40964443336809,112.82907245549066,79.0795575428886,30.841614511240174,272.8835901470732,118.79489579862741,251.2361740162628,196.69150345044127,123.05619818658221,109.590482640645,53.00038692860517,151.86260232915672,165.1578657795757,99.02245271851709,236.0659375151437,139.0786951652923,231.6341830316707,275.6108236753643,250.38391353867183,99.19290481403529,13.966857054939137,128.34021314764615,206.7481770860146,117.43127903448186,46.18230310787748,218.67982377228807,35.44382109023137,38.68241090507702,108.73822216305405,220.2138926319518,187.99844657901346,142.8286412666925,64.07977313728767,274.9290152932915,190.04387172523178,129.36292572075533,40.557383955777134,256.1792847862904,67.8297192386879,208.28224594567834,15.67137801012106,42.60280910199544,35.61427318574956,77.03413239667029,38.852863000595214,18.228159442893944,250.7248177297082,0.6715936045201385,176.91906037033098,52.489030642050594,258.56561412354506,207.2595333725692,130.0447341028281,220.7252489185064,60.15937494036925,178.11222503895831,259.417874601136,46.86411148995025,95.27250661711686,13.285048672866367,103.45420720199009,137.20372211459215,270.32680871430034,89.64758746501651,219.19118005884266,106.86324911235394,190.89613220282274,77.20458449218847,2.8874708462566385,256.86109316836314,206.06636870394186,141.63547659806517,127.99930895660978,265.8950542308273,34.421108517122214,90.32939584708929,228.73649740786144,86.40899765017086,174.70318312859447,21.4667492577396,81.63633897566147,173.85092265100351,149.47627299190202,255.6679284997358,85.89764136361629,169.24871607201231,218.3389195812517,156.63526100366607,21.296297162221407,80.95453059358871,59.98892284485106,37.83015042748606,186.29392562383154,102.43149462888094,115.38585388826354,184.58940466864962,43.45506957958641,238.28181475688018,130.89699458041906,252.25888658937197,-3.930612974471053,97.14747966781698,169.4191681675305,51.636770164459634,238.111362661362,257.7133536459541,41.068740242331714,121.1812251358821,132.60151553560098,94.24979404400771,28.796189365021867,250.21346144315368,249.36120096556272,57.43214141207817,23.341722308439714,169.7600723585669,97.31793176333517,73.28418629527006,157.82842567229343,194.81653039974117,148.28310832327466,199.75964116976874,260.9519434607998,199.41873697873234,208.11179385016015,164.13515320646655,248.6793925834899,134.81739277733746,254.47476383110848,197.88466811906864,101.92013834232637,158.5102340543662,-9.72598422208959,13.45550076838456,247.48622791486258,-10.237340508644168,132.94241972663735,-0.1806668730708232,137.54462630562855,273.7358506246642,268.11093147256383,244.7589943865715,228.05468902578866,159.02159034092077,218.5093716767699,268.79273985463664,3.2283750372930236,0.33068941348375347,243.90673390898053,138.9082430697741,25.38714745465802,24.02353069051248,76.18187191907933,54.87535997930529,53.341291119641554,69.19333600283343,187.4870902924589,74.47735096389741,271.1790691918913,264.1905332756454,38.000602523004254,187.82799448349527,130.38563829386447,213.39580881122413,71.57966534008813,269.4745482367094,255.4974764042176,114.5335934106726,16.182734296675637,258.3951620280269,169.5896202630487,57.091237221041794,130.2151861983463,-12.453217750380668,6.466964852138677,55.216264170341674,209.1345064232693,96.12476709470782,71.92056953112451,87.9430665098346,154.93074004848415,52.14812645101421,237.42955427928922,61.86389589555117,178.4531292299947,249.0202967745263,262.1451081294271,169.9305244540851,214.75942557536965,79.59091382944317,106.18144073028117,179.30538970758568,229.4183057899342,27.943928887430907,166.18057835268485,152.2035065201931,153.908027475375,252.59979078040834,159.19204243643898,60.67073122692382,14.307761245975524,165.3283178750939,36.636985758858714,218.16846748573352,109.76093473616321,226.00926387957034,64.59112942384225,72.94328210423367,234.53186865547997,271.3495212874095,160.04430291402994,252.77024287592656,182.20307533139493,160.72611129610272,90.67030003812567,87.60216231879821,30.159806129167407,88.62487489190737,260.78149136528157,63.057060564178514,55.89807255241445,230.27056626752517,86.23854555465267,29.137093556058254,12.091884004239024,252.08843449385375,135.84010535044663,221.57750939609735,155.10119214400237,168.73735978545773,91.52256051571663,68.85243181179706,25.046243263621633,40.38693186025894,176.4077040837764,246.29306324623525,101.74968624680817,17.546351060821177,180.32810228069482,203.16868308013258,103.96556348854467,181.52126694932215,125.4425275238369,-6.65784650276213,80.44317430703413,162.08972806024823,95.44295871263505,48.39818034961398,4.59199180143856,100.21561738714443,139.24914726081047,224.816099210943,22.659913926366947,-10.748696795198745,65.10248571039682,274.75856319777336,199.93009326528693,15.160021723566484,138.0559825921831,223.1115782557611,266.4064105173819,233.8500602734072,197.37331183251405,48.568632445132174,273.9063027201824,20.10313249359406,112.31771616893609,22.83036602188514,271.00861709637314,261.9746560339089,6.126060661102294,3.9101834193657936,144.36271012635623,28.96664146054006,226.17971597508856,-8.87372374449863,81.80679107117967,46.69365939443206,258.0542578369905,88.11351860535278,2.376114559702062,170.44188074063968,88.28397070087098,107.5450574944267,99.36335690955347,83.85221621739798,26.921216314321754,270.49726080981856,166.35103044820303,67.31836295213333,254.81566802214485,100.38606948266263,158.6806861498844,70.38650067146078,159.53294662747535,27.432572600876327,182.71443161794951,160.3852071050663,3.7397313238476,19.762228302557673,-10.919148890716937,239.47497942550754,152.0330544246749,11.92143190872083,170.78278493167605,82.48859945325243,176.74860827481277,232.14553931822527,33.39839594401306,126.97659638350063,99.53380900507167,172.31685379133978,69.8751443849062,0.8420457000383319,9.364650475947947,125.61297961935509,-1.2033794461799765,183.22578790450407,97.99974014540794,161.57837177369368,91.18165632468025,125.95388381039146,24.705339072585254,272.54268595603685,229.247853694416,40.04602766922256,210.49812318741485,224.9865513064612,126.29478800142786,128.51066524316437,151.01034185156573,56.23897674345082,35.10291689919498,229.5887578854524,30.500710320203787,-3.7601608789528598,133.11287182215554,82.99995573980702,253.4520512579993,98.8520006229989,139.93095564288325,106.01098863476298,222.9411261602429,87.7726144143164,1.3534019865929086,107.20415330339033,24.364434881548867,154.76028795296597,39.36421928714979,-11.771409368307898,79.25000963840678,121.69258142243666,108.56777006753586,48.057276158577594,177.94177294344013,227.2024285481977,205.2141082263509,201.97551841150525,78.56820125633402,66.63655457006055,-9.044175840016822,262.4860123204635,187.3166381969407,242.03176085828042,123.2266502821004,73.96599467734282,-4.782873452062015,240.4976919986167,149.8171771829384,64.25022523280586,25.8985037412126,197.20285973699586,203.50958727116895,48.22772825409579,-0.5215710641072064,224.30474292438842,26.409860027767174,179.47584180310386,32.03477917986752,148.79446460982925,95.10205452159867,20.95539297118502,73.45463839078825,108.22686587649947,204.53229984427813,251.57707820729917,213.56626090674231,45.33004263028652,132.4310634400828,-12.112313559344283,79.42046173392498,263.50872489357266,243.39537762242594,54.5344557882689,73.79554258182463,141.97638078910154,3.05792294177483,269.30409614119117,259.07697041009965,266.57686261290013,227.71378483475226,161.40791967817546,185.2712130507224,23.853078594994294,113.68133293308163,149.3058208963838,-4.6124213565438215,246.974871628308,51.80722225997782,144.70361431739263,208.96405432775111,72.4319258176791,163.62379691991197,79.76136592496137,58.795758176223714,72.2614737221609,208.79360223223293,139.41959935632866,102.60194672439913,240.8385961896531,159.70339872299354,21.978105544294174,116.91992274792727,33.90975223056763,185.78256933727698,49.07998873168675,74.6478030594156,213.05490462018773,142.6581891711743,92.2043688977894,217.65711119917893,269.6450003322276,230.44101836304336,236.2363896106619,217.9980153902153,115.21540179274535,212.03219204707858,266.7473147084183,236.91819799273466,61.69344380003298,141.80592869358335,75.84096772804294,129.02202152971893,210.32767109189666,178.7940334210311,154.2489316664114,259.75877879217245,206.91862918153282,28.1143809829491,239.8158836165439,247.6566800103808,5.27380018351133,140.10140773840143,45.841398916841094,267.4291230904911,174.87363522411266,34.25065642160402,204.36184774875994,256.690641072845,233.16825189133442,-2.566996210325515,137.88553049666493,50.61405759135048,10.557815144575294,248.16803629693533,93.56798566193494,-4.271517165507438,-5.805586025171168,68.68197971627886,142.14683288461976,162.771536442321,180.6690064717312,112.1472640734179,41.23919233784991,146.9194915591291,85.38628507706171,271.6904254784459,256.0088326907722,153.22621909330223,228.90694950337962,0.16023731796556184,89.47713536949833,259.9292308876906,219.36163215436085,251.06572192074464,134.4764885863011],\"type\":\"scatter\"}],                        {\"template\":{\"data\":{\"barpolar\":[{\"marker\":{\"line\":{\"color\":\"#E5ECF6\",\"width\":0.5},\"pattern\":{\"fillmode\":\"overlay\",\"size\":10,\"solidity\":0.2}},\"type\":\"barpolar\"}],\"bar\":[{\"error_x\":{\"color\":\"#2a3f5f\"},\"error_y\":{\"color\":\"#2a3f5f\"},\"marker\":{\"line\":{\"color\":\"#E5ECF6\",\"width\":0.5},\"pattern\":{\"fillmode\":\"overlay\",\"size\":10,\"solidity\":0.2}},\"type\":\"bar\"}],\"carpet\":[{\"aaxis\":{\"endlinecolor\":\"#2a3f5f\",\"gridcolor\":\"white\",\"linecolor\":\"white\",\"minorgridcolor\":\"white\",\"startlinecolor\":\"#2a3f5f\"},\"baxis\":{\"endlinecolor\":\"#2a3f5f\",\"gridcolor\":\"white\",\"linecolor\":\"white\",\"minorgridcolor\":\"white\",\"startlinecolor\":\"#2a3f5f\"},\"type\":\"carpet\"}],\"choropleth\":[{\"colorbar\":{\"outlinewidth\":0,\"ticks\":\"\"},\"type\":\"choropleth\"}],\"contourcarpet\":[{\"colorbar\":{\"outlinewidth\":0,\"ticks\":\"\"},\"type\":\"contourcarpet\"}],\"contour\":[{\"colorbar\":{\"outlinewidth\":0,\"ticks\":\"\"},\"colorscale\":[[0.0,\"#0d0887\"],[0.1111111111111111,\"#46039f\"],[0.2222222222222222,\"#7201a8\"],[0.3333333333333333,\"#9c179e\"],[0.4444444444444444,\"#bd3786\"],[0.5555555555555556,\"#d8576b\"],[0.6666666666666666,\"#ed7953\"],[0.7777777777777778,\"#fb9f3a\"],[0.8888888888888888,\"#fdca26\"],[1.0,\"#f0f921\"]],\"type\":\"contour\"}],\"heatmapgl\":[{\"colorbar\":{\"outlinewidth\":0,\"ticks\":\"\"},\"colorscale\":[[0.0,\"#0d0887\"],[0.1111111111111111,\"#46039f\"],[0.2222222222222222,\"#7201a8\"],[0.3333333333333333,\"#9c179e\"],[0.4444444444444444,\"#bd3786\"],[0.5555555555555556,\"#d8576b\"],[0.6666666666666666,\"#ed7953\"],[0.7777777777777778,\"#fb9f3a\"],[0.8888888888888888,\"#fdca26\"],[1.0,\"#f0f921\"]],\"type\":\"heatmapgl\"}],\"heatmap\":[{\"colorbar\":{\"outlinewidth\":0,\"ticks\":\"\"},\"colorscale\":[[0.0,\"#0d0887\"],[0.1111111111111111,\"#46039f\"],[0.2222222222222222,\"#7201a8\"],[0.3333333333333333,\"#9c179e\"],[0.4444444444444444,\"#bd3786\"],[0.5555555555555556,\"#d8576b\"],[0.6666666666666666,\"#ed7953\"],[0.7777777777777778,\"#fb9f3a\"],[0.8888888888888888,\"#fdca26\"],[1.0,\"#f0f921\"]],\"type\":\"heatmap\"}],\"histogram2dcontour\":[{\"colorbar\":{\"outlinewidth\":0,\"ticks\":\"\"},\"colorscale\":[[0.0,\"#0d0887\"],[0.1111111111111111,\"#46039f\"],[0.2222222222222222,\"#7201a8\"],[0.3333333333333333,\"#9c179e\"],[0.4444444444444444,\"#bd3786\"],[0.5555555555555556,\"#d8576b\"],[0.6666666666666666,\"#ed7953\"],[0.7777777777777778,\"#fb9f3a\"],[0.8888888888888888,\"#fdca26\"],[1.0,\"#f0f921\"]],\"type\":\"histogram2dcontour\"}],\"histogram2d\":[{\"colorbar\":{\"outlinewidth\":0,\"ticks\":\"\"},\"colorscale\":[[0.0,\"#0d0887\"],[0.1111111111111111,\"#46039f\"],[0.2222222222222222,\"#7201a8\"],[0.3333333333333333,\"#9c179e\"],[0.4444444444444444,\"#bd3786\"],[0.5555555555555556,\"#d8576b\"],[0.6666666666666666,\"#ed7953\"],[0.7777777777777778,\"#fb9f3a\"],[0.8888888888888888,\"#fdca26\"],[1.0,\"#f0f921\"]],\"type\":\"histogram2d\"}],\"histogram\":[{\"marker\":{\"pattern\":{\"fillmode\":\"overlay\",\"size\":10,\"solidity\":0.2}},\"type\":\"histogram\"}],\"mesh3d\":[{\"colorbar\":{\"outlinewidth\":0,\"ticks\":\"\"},\"type\":\"mesh3d\"}],\"parcoords\":[{\"line\":{\"colorbar\":{\"outlinewidth\":0,\"ticks\":\"\"}},\"type\":\"parcoords\"}],\"pie\":[{\"automargin\":true,\"type\":\"pie\"}],\"scatter3d\":[{\"line\":{\"colorbar\":{\"outlinewidth\":0,\"ticks\":\"\"}},\"marker\":{\"colorbar\":{\"outlinewidth\":0,\"ticks\":\"\"}},\"type\":\"scatter3d\"}],\"scattercarpet\":[{\"marker\":{\"colorbar\":{\"outlinewidth\":0,\"ticks\":\"\"}},\"type\":\"scattercarpet\"}],\"scattergeo\":[{\"marker\":{\"colorbar\":{\"outlinewidth\":0,\"ticks\":\"\"}},\"type\":\"scattergeo\"}],\"scattergl\":[{\"marker\":{\"colorbar\":{\"outlinewidth\":0,\"ticks\":\"\"}},\"type\":\"scattergl\"}],\"scattermapbox\":[{\"marker\":{\"colorbar\":{\"outlinewidth\":0,\"ticks\":\"\"}},\"type\":\"scattermapbox\"}],\"scatterpolargl\":[{\"marker\":{\"colorbar\":{\"outlinewidth\":0,\"ticks\":\"\"}},\"type\":\"scatterpolargl\"}],\"scatterpolar\":[{\"marker\":{\"colorbar\":{\"outlinewidth\":0,\"ticks\":\"\"}},\"type\":\"scatterpolar\"}],\"scatter\":[{\"marker\":{\"colorbar\":{\"outlinewidth\":0,\"ticks\":\"\"}},\"type\":\"scatter\"}],\"scatterternary\":[{\"marker\":{\"colorbar\":{\"outlinewidth\":0,\"ticks\":\"\"}},\"type\":\"scatterternary\"}],\"surface\":[{\"colorbar\":{\"outlinewidth\":0,\"ticks\":\"\"},\"colorscale\":[[0.0,\"#0d0887\"],[0.1111111111111111,\"#46039f\"],[0.2222222222222222,\"#7201a8\"],[0.3333333333333333,\"#9c179e\"],[0.4444444444444444,\"#bd3786\"],[0.5555555555555556,\"#d8576b\"],[0.6666666666666666,\"#ed7953\"],[0.7777777777777778,\"#fb9f3a\"],[0.8888888888888888,\"#fdca26\"],[1.0,\"#f0f921\"]],\"type\":\"surface\"}],\"table\":[{\"cells\":{\"fill\":{\"color\":\"#EBF0F8\"},\"line\":{\"color\":\"white\"}},\"header\":{\"fill\":{\"color\":\"#C8D4E3\"},\"line\":{\"color\":\"white\"}},\"type\":\"table\"}]},\"layout\":{\"annotationdefaults\":{\"arrowcolor\":\"#2a3f5f\",\"arrowhead\":0,\"arrowwidth\":1},\"autotypenumbers\":\"strict\",\"coloraxis\":{\"colorbar\":{\"outlinewidth\":0,\"ticks\":\"\"}},\"colorscale\":{\"diverging\":[[0,\"#8e0152\"],[0.1,\"#c51b7d\"],[0.2,\"#de77ae\"],[0.3,\"#f1b6da\"],[0.4,\"#fde0ef\"],[0.5,\"#f7f7f7\"],[0.6,\"#e6f5d0\"],[0.7,\"#b8e186\"],[0.8,\"#7fbc41\"],[0.9,\"#4d9221\"],[1,\"#276419\"]],\"sequential\":[[0.0,\"#0d0887\"],[0.1111111111111111,\"#46039f\"],[0.2222222222222222,\"#7201a8\"],[0.3333333333333333,\"#9c179e\"],[0.4444444444444444,\"#bd3786\"],[0.5555555555555556,\"#d8576b\"],[0.6666666666666666,\"#ed7953\"],[0.7777777777777778,\"#fb9f3a\"],[0.8888888888888888,\"#fdca26\"],[1.0,\"#f0f921\"]],\"sequentialminus\":[[0.0,\"#0d0887\"],[0.1111111111111111,\"#46039f\"],[0.2222222222222222,\"#7201a8\"],[0.3333333333333333,\"#9c179e\"],[0.4444444444444444,\"#bd3786\"],[0.5555555555555556,\"#d8576b\"],[0.6666666666666666,\"#ed7953\"],[0.7777777777777778,\"#fb9f3a\"],[0.8888888888888888,\"#fdca26\"],[1.0,\"#f0f921\"]]},\"colorway\":[\"#636efa\",\"#EF553B\",\"#00cc96\",\"#ab63fa\",\"#FFA15A\",\"#19d3f3\",\"#FF6692\",\"#B6E880\",\"#FF97FF\",\"#FECB52\"],\"font\":{\"color\":\"#2a3f5f\"},\"geo\":{\"bgcolor\":\"white\",\"lakecolor\":\"white\",\"landcolor\":\"#E5ECF6\",\"showlakes\":true,\"showland\":true,\"subunitcolor\":\"white\"},\"hoverlabel\":{\"align\":\"left\"},\"hovermode\":\"closest\",\"mapbox\":{\"style\":\"light\"},\"paper_bgcolor\":\"white\",\"plot_bgcolor\":\"#E5ECF6\",\"polar\":{\"angularaxis\":{\"gridcolor\":\"white\",\"linecolor\":\"white\",\"ticks\":\"\"},\"bgcolor\":\"#E5ECF6\",\"radialaxis\":{\"gridcolor\":\"white\",\"linecolor\":\"white\",\"ticks\":\"\"}},\"scene\":{\"xaxis\":{\"backgroundcolor\":\"#E5ECF6\",\"gridcolor\":\"white\",\"gridwidth\":2,\"linecolor\":\"white\",\"showbackground\":true,\"ticks\":\"\",\"zerolinecolor\":\"white\"},\"yaxis\":{\"backgroundcolor\":\"#E5ECF6\",\"gridcolor\":\"white\",\"gridwidth\":2,\"linecolor\":\"white\",\"showbackground\":true,\"ticks\":\"\",\"zerolinecolor\":\"white\"},\"zaxis\":{\"backgroundcolor\":\"#E5ECF6\",\"gridcolor\":\"white\",\"gridwidth\":2,\"linecolor\":\"white\",\"showbackground\":true,\"ticks\":\"\",\"zerolinecolor\":\"white\"}},\"shapedefaults\":{\"line\":{\"color\":\"#2a3f5f\"}},\"ternary\":{\"aaxis\":{\"gridcolor\":\"white\",\"linecolor\":\"white\",\"ticks\":\"\"},\"baxis\":{\"gridcolor\":\"white\",\"linecolor\":\"white\",\"ticks\":\"\"},\"bgcolor\":\"#E5ECF6\",\"caxis\":{\"gridcolor\":\"white\",\"linecolor\":\"white\",\"ticks\":\"\"}},\"title\":{\"x\":0.05},\"xaxis\":{\"automargin\":true,\"gridcolor\":\"white\",\"linecolor\":\"white\",\"ticks\":\"\",\"title\":{\"standoff\":15},\"zerolinecolor\":\"white\",\"zerolinewidth\":2},\"yaxis\":{\"automargin\":true,\"gridcolor\":\"white\",\"linecolor\":\"white\",\"ticks\":\"\",\"title\":{\"standoff\":15},\"zerolinecolor\":\"white\",\"zerolinewidth\":2}}},\"title\":{\"text\":\"Stock Prices of tesla\"},\"xaxis\":{\"title\":{\"font\":{\"color\":\"#7f7f7f\",\"family\":\"Courier New, monospace\",\"size\":18},\"text\":\"Day\"}},\"yaxis\":{\"title\":{\"font\":{\"color\":\"#7f7f7f\",\"family\":\"Courier New, monospace\",\"size\":18},\"text\":\"Price\"}}},                        {\"responsive\": true}                    ).then(function(){\n",
              "                            \n",
              "var gd = document.getElementById('b69bf54c-788d-4046-981f-89fe3140f8cc');\n",
              "var x = new MutationObserver(function (mutations, observer) {{\n",
              "        var display = window.getComputedStyle(gd).display;\n",
              "        if (!display || display === 'none') {{\n",
              "            console.log([gd, 'removed!']);\n",
              "            Plotly.purge(gd);\n",
              "            observer.disconnect();\n",
              "        }}\n",
              "}});\n",
              "\n",
              "// Listen for the removal of the full notebook cells\n",
              "var notebookContainer = gd.closest('#notebook-container');\n",
              "if (notebookContainer) {{\n",
              "    x.observe(notebookContainer, {childList: true});\n",
              "}}\n",
              "\n",
              "// Listen for the clearing of the current output cell\n",
              "var outputEl = gd.closest('.output');\n",
              "if (outputEl) {{\n",
              "    x.observe(outputEl, {childList: true});\n",
              "}}\n",
              "\n",
              "                        })                };                            </script>        </div>\n",
              "</body>\n",
              "</html>"
            ]
          },
          "metadata": {}
        }
      ],
      "source": [
        "iplot(plot2)"
      ]
    },
    {
      "cell_type": "code",
      "execution_count": 33,
      "metadata": {
        "colab": {
          "base_uri": "https://localhost:8080/"
        },
        "id": "xKWt0M5jmlbM",
        "outputId": "634ecf4b-79a5-4f85-aafa-ffe1e1422a8c"
      },
      "outputs": [
        {
          "output_type": "stream",
          "name": "stdout",
          "text": [
            "\n",
            "Metric           Train                Test        \n",
            "r2_score  0.7929900409846331\t0.7956409009085726\n",
            "MSE       1836.922396703335\t1823.8784763131885\n",
            "\n"
          ]
        }
      ],
      "source": [
        "#Calculate scores for model evaluation\n",
        "scores = f'''\n",
        "{'Metric'.ljust(10)}{'Train'.center(20)}{'Test'.center(20)}\n",
        "{'r2_score'.ljust(10)}{r2_score(Y_train, lm.predict(X_train))}\\t{r2_score(Y_test, lm.predict(X_test))}\n",
        "{'MSE'.ljust(10)}{mse(Y_train, lm.predict(X_train))}\\t{mse(Y_test, lm.predict(X_test))}\n",
        "'''\n",
        "print(scores)"
      ]
    }
  ],
  "metadata": {
    "kernelspec": {
      "display_name": "Python 3",
      "language": "python",
      "name": "python3"
    },
    "language_info": {
      "codemirror_mode": {
        "name": "ipython",
        "version": 3
      },
      "file_extension": ".py",
      "mimetype": "text/x-python",
      "name": "python",
      "nbconvert_exporter": "python",
      "pygments_lexer": "ipython3",
      "version": "3.9.4"
    },
    "vscode": {
      "interpreter": {
        "hash": "11938c6bc6919ae2720b4d5011047913343b08a43b18698fd82dedb0d4417594"
      }
    },
    "colab": {
      "provenance": [],
      "include_colab_link": true
    }
  },
  "nbformat": 4,
  "nbformat_minor": 0
}